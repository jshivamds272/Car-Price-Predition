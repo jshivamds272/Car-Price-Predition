{
  "nbformat": 4,
  "nbformat_minor": 0,
  "metadata": {
    "colab": {
      "name": "CAR PRICE PREDICTION",
      "provenance": [],
      "collapsed_sections": [],
      "authorship_tag": "ABX9TyNkpMct5NJqD9gpMeiZ/JOz",
      "include_colab_link": true
    },
    "kernelspec": {
      "display_name": "Python 3",
      "name": "python3"
    },
    "language_info": {
      "name": "python"
    }
  },
  "cells": [
    {
      "cell_type": "markdown",
      "metadata": {
        "id": "view-in-github",
        "colab_type": "text"
      },
      "source": [
        "<a href=\"https://colab.research.google.com/github/jshivamds272/Car-Price-Predition/blob/main/CAR_PRICE_PREDICTION.ipynb\" target=\"_parent\"><img src=\"https://colab.research.google.com/assets/colab-badge.svg\" alt=\"Open In Colab\"/></a>"
      ]
    },
    {
      "cell_type": "code",
      "metadata": {
        "id": "ROOoUSvmSFCE"
      },
      "source": [
        "#library import\n",
        "import numpy as np\n",
        "import pandas as pd\n",
        "import matplotlib.pyplot as plt\n",
        "import seaborn as sns\n",
        "%matplotlib inline\n"
      ],
      "execution_count": null,
      "outputs": []
    },
    {
      "cell_type": "code",
      "metadata": {
        "colab": {
          "resources": {
            "http://localhost:8080/nbextensions/google.colab/files.js": {
              "data": "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",
              "ok": true,
              "headers": [
                [
                  "content-type",
                  "application/javascript"
                ]
              ],
              "status": 200,
              "status_text": ""
            }
          },
          "base_uri": "https://localhost:8080/",
          "height": 73
        },
        "id": "cGVXIeyTF3IP",
        "outputId": "cfbc9d43-c0c6-4285-b3d6-d00b36090835"
      },
      "source": [
        "from google.colab import files\n",
        "uploaded=files.upload()"
      ],
      "execution_count": null,
      "outputs": [
        {
          "output_type": "display_data",
          "data": {
            "text/html": [
              "\n",
              "     <input type=\"file\" id=\"files-10ffff44-cce2-4096-a71b-afff173a8ccb\" name=\"files[]\" multiple disabled\n",
              "        style=\"border:none\" />\n",
              "     <output id=\"result-10ffff44-cce2-4096-a71b-afff173a8ccb\">\n",
              "      Upload widget is only available when the cell has been executed in the\n",
              "      current browser session. Please rerun this cell to enable.\n",
              "      </output>\n",
              "      <script src=\"/nbextensions/google.colab/files.js\"></script> "
            ],
            "text/plain": [
              "<IPython.core.display.HTML object>"
            ]
          },
          "metadata": {
            "tags": []
          }
        },
        {
          "output_type": "stream",
          "text": [
            "Saving train.csv to train (2).csv\n"
          ],
          "name": "stdout"
        }
      ]
    },
    {
      "cell_type": "code",
      "metadata": {
        "id": "ICJxZPfaxCe-"
      },
      "source": [
        "#import training and test dataset\n",
        "import io\n",
        "train_data=pd.read_csv(io.BytesIO(uploaded[\"train.csv\"]),na_values=['-'])\n",
        "#test_data=pd.read_csv(\"/content/test.csv\")"
      ],
      "execution_count": null,
      "outputs": []
    },
    {
      "cell_type": "code",
      "metadata": {
        "colab": {
          "base_uri": "https://localhost:8080/"
        },
        "id": "0LZhlcrjxnMm",
        "outputId": "346df23d-a705-4073-8362-d0ccb8fa26b6"
      },
      "source": [
        "train_data.info()"
      ],
      "execution_count": null,
      "outputs": [
        {
          "output_type": "stream",
          "text": [
            "<class 'pandas.core.frame.DataFrame'>\n",
            "RangeIndex: 19237 entries, 0 to 19236\n",
            "Data columns (total 18 columns):\n",
            " #   Column            Non-Null Count  Dtype  \n",
            "---  ------            --------------  -----  \n",
            " 0   ID                19237 non-null  int64  \n",
            " 1   Price             19237 non-null  int64  \n",
            " 2   Levy              13418 non-null  float64\n",
            " 3   Manufacturer      19237 non-null  object \n",
            " 4   Model             19237 non-null  object \n",
            " 5   Prod. year        19237 non-null  int64  \n",
            " 6   Category          19237 non-null  object \n",
            " 7   Leather interior  19237 non-null  object \n",
            " 8   Fuel type         19237 non-null  object \n",
            " 9   Engine volume     19237 non-null  object \n",
            " 10  Mileage           19237 non-null  object \n",
            " 11  Cylinders         19237 non-null  float64\n",
            " 12  Gear box type     19237 non-null  object \n",
            " 13  Drive wheels      19237 non-null  object \n",
            " 14  Doors             19237 non-null  object \n",
            " 15  Wheel             19237 non-null  object \n",
            " 16  Color             19237 non-null  object \n",
            " 17  Airbags           19237 non-null  int64  \n",
            "dtypes: float64(2), int64(4), object(12)\n",
            "memory usage: 2.6+ MB\n"
          ],
          "name": "stdout"
        }
      ]
    },
    {
      "cell_type": "code",
      "metadata": {
        "colab": {
          "base_uri": "https://localhost:8080/"
        },
        "id": "Cn3LhLqbypiP",
        "outputId": "2678c60c-ce23-4a60-9190-32e90f0ea029"
      },
      "source": [
        "train_data.shape\n"
      ],
      "execution_count": null,
      "outputs": [
        {
          "output_type": "execute_result",
          "data": {
            "text/plain": [
              "(19237, 18)"
            ]
          },
          "metadata": {
            "tags": []
          },
          "execution_count": 318
        }
      ]
    },
    {
      "cell_type": "code",
      "metadata": {
        "colab": {
          "base_uri": "https://localhost:8080/",
          "height": 602
        },
        "id": "VX84nw1N6BIZ",
        "outputId": "4dbe50bb-8bb7-4b95-fe5e-b14538f8dca4"
      },
      "source": [
        "train_data"
      ],
      "execution_count": null,
      "outputs": [
        {
          "output_type": "execute_result",
          "data": {
            "text/html": [
              "<div>\n",
              "<style scoped>\n",
              "    .dataframe tbody tr th:only-of-type {\n",
              "        vertical-align: middle;\n",
              "    }\n",
              "\n",
              "    .dataframe tbody tr th {\n",
              "        vertical-align: top;\n",
              "    }\n",
              "\n",
              "    .dataframe thead th {\n",
              "        text-align: right;\n",
              "    }\n",
              "</style>\n",
              "<table border=\"1\" class=\"dataframe\">\n",
              "  <thead>\n",
              "    <tr style=\"text-align: right;\">\n",
              "      <th></th>\n",
              "      <th>ID</th>\n",
              "      <th>Price</th>\n",
              "      <th>Levy</th>\n",
              "      <th>Manufacturer</th>\n",
              "      <th>Model</th>\n",
              "      <th>Prod. year</th>\n",
              "      <th>Category</th>\n",
              "      <th>Leather interior</th>\n",
              "      <th>Fuel type</th>\n",
              "      <th>Engine volume</th>\n",
              "      <th>Mileage</th>\n",
              "      <th>Cylinders</th>\n",
              "      <th>Gear box type</th>\n",
              "      <th>Drive wheels</th>\n",
              "      <th>Doors</th>\n",
              "      <th>Wheel</th>\n",
              "      <th>Color</th>\n",
              "      <th>Airbags</th>\n",
              "    </tr>\n",
              "  </thead>\n",
              "  <tbody>\n",
              "    <tr>\n",
              "      <th>0</th>\n",
              "      <td>45654403</td>\n",
              "      <td>13328</td>\n",
              "      <td>1399.0</td>\n",
              "      <td>LEXUS</td>\n",
              "      <td>RX 450</td>\n",
              "      <td>2010</td>\n",
              "      <td>Jeep</td>\n",
              "      <td>Yes</td>\n",
              "      <td>Hybrid</td>\n",
              "      <td>3.5</td>\n",
              "      <td>186005 km</td>\n",
              "      <td>6.0</td>\n",
              "      <td>Automatic</td>\n",
              "      <td>4x4</td>\n",
              "      <td>04-May</td>\n",
              "      <td>Left wheel</td>\n",
              "      <td>Silver</td>\n",
              "      <td>12</td>\n",
              "    </tr>\n",
              "    <tr>\n",
              "      <th>1</th>\n",
              "      <td>44731507</td>\n",
              "      <td>16621</td>\n",
              "      <td>1018.0</td>\n",
              "      <td>CHEVROLET</td>\n",
              "      <td>Equinox</td>\n",
              "      <td>2011</td>\n",
              "      <td>Jeep</td>\n",
              "      <td>No</td>\n",
              "      <td>Petrol</td>\n",
              "      <td>3</td>\n",
              "      <td>192000 km</td>\n",
              "      <td>6.0</td>\n",
              "      <td>Tiptronic</td>\n",
              "      <td>4x4</td>\n",
              "      <td>04-May</td>\n",
              "      <td>Left wheel</td>\n",
              "      <td>Black</td>\n",
              "      <td>8</td>\n",
              "    </tr>\n",
              "    <tr>\n",
              "      <th>2</th>\n",
              "      <td>45774419</td>\n",
              "      <td>8467</td>\n",
              "      <td>NaN</td>\n",
              "      <td>HONDA</td>\n",
              "      <td>FIT</td>\n",
              "      <td>2006</td>\n",
              "      <td>Hatchback</td>\n",
              "      <td>No</td>\n",
              "      <td>Petrol</td>\n",
              "      <td>1.3</td>\n",
              "      <td>200000 km</td>\n",
              "      <td>4.0</td>\n",
              "      <td>Variator</td>\n",
              "      <td>Front</td>\n",
              "      <td>04-May</td>\n",
              "      <td>Right-hand drive</td>\n",
              "      <td>Black</td>\n",
              "      <td>2</td>\n",
              "    </tr>\n",
              "    <tr>\n",
              "      <th>3</th>\n",
              "      <td>45769185</td>\n",
              "      <td>3607</td>\n",
              "      <td>862.0</td>\n",
              "      <td>FORD</td>\n",
              "      <td>Escape</td>\n",
              "      <td>2011</td>\n",
              "      <td>Jeep</td>\n",
              "      <td>Yes</td>\n",
              "      <td>Hybrid</td>\n",
              "      <td>2.5</td>\n",
              "      <td>168966 km</td>\n",
              "      <td>4.0</td>\n",
              "      <td>Automatic</td>\n",
              "      <td>4x4</td>\n",
              "      <td>04-May</td>\n",
              "      <td>Left wheel</td>\n",
              "      <td>White</td>\n",
              "      <td>0</td>\n",
              "    </tr>\n",
              "    <tr>\n",
              "      <th>4</th>\n",
              "      <td>45809263</td>\n",
              "      <td>11726</td>\n",
              "      <td>446.0</td>\n",
              "      <td>HONDA</td>\n",
              "      <td>FIT</td>\n",
              "      <td>2014</td>\n",
              "      <td>Hatchback</td>\n",
              "      <td>Yes</td>\n",
              "      <td>Petrol</td>\n",
              "      <td>1.3</td>\n",
              "      <td>91901 km</td>\n",
              "      <td>4.0</td>\n",
              "      <td>Automatic</td>\n",
              "      <td>Front</td>\n",
              "      <td>04-May</td>\n",
              "      <td>Left wheel</td>\n",
              "      <td>Silver</td>\n",
              "      <td>4</td>\n",
              "    </tr>\n",
              "    <tr>\n",
              "      <th>...</th>\n",
              "      <td>...</td>\n",
              "      <td>...</td>\n",
              "      <td>...</td>\n",
              "      <td>...</td>\n",
              "      <td>...</td>\n",
              "      <td>...</td>\n",
              "      <td>...</td>\n",
              "      <td>...</td>\n",
              "      <td>...</td>\n",
              "      <td>...</td>\n",
              "      <td>...</td>\n",
              "      <td>...</td>\n",
              "      <td>...</td>\n",
              "      <td>...</td>\n",
              "      <td>...</td>\n",
              "      <td>...</td>\n",
              "      <td>...</td>\n",
              "      <td>...</td>\n",
              "    </tr>\n",
              "    <tr>\n",
              "      <th>19232</th>\n",
              "      <td>45798355</td>\n",
              "      <td>8467</td>\n",
              "      <td>NaN</td>\n",
              "      <td>MERCEDES-BENZ</td>\n",
              "      <td>CLK 200</td>\n",
              "      <td>1999</td>\n",
              "      <td>Coupe</td>\n",
              "      <td>Yes</td>\n",
              "      <td>CNG</td>\n",
              "      <td>2.0 Turbo</td>\n",
              "      <td>300000 km</td>\n",
              "      <td>4.0</td>\n",
              "      <td>Manual</td>\n",
              "      <td>Rear</td>\n",
              "      <td>02-Mar</td>\n",
              "      <td>Left wheel</td>\n",
              "      <td>Silver</td>\n",
              "      <td>5</td>\n",
              "    </tr>\n",
              "    <tr>\n",
              "      <th>19233</th>\n",
              "      <td>45778856</td>\n",
              "      <td>15681</td>\n",
              "      <td>831.0</td>\n",
              "      <td>HYUNDAI</td>\n",
              "      <td>Sonata</td>\n",
              "      <td>2011</td>\n",
              "      <td>Sedan</td>\n",
              "      <td>Yes</td>\n",
              "      <td>Petrol</td>\n",
              "      <td>2.4</td>\n",
              "      <td>161600 km</td>\n",
              "      <td>4.0</td>\n",
              "      <td>Tiptronic</td>\n",
              "      <td>Front</td>\n",
              "      <td>04-May</td>\n",
              "      <td>Left wheel</td>\n",
              "      <td>Red</td>\n",
              "      <td>8</td>\n",
              "    </tr>\n",
              "    <tr>\n",
              "      <th>19234</th>\n",
              "      <td>45804997</td>\n",
              "      <td>26108</td>\n",
              "      <td>836.0</td>\n",
              "      <td>HYUNDAI</td>\n",
              "      <td>Tucson</td>\n",
              "      <td>2010</td>\n",
              "      <td>Jeep</td>\n",
              "      <td>Yes</td>\n",
              "      <td>Diesel</td>\n",
              "      <td>2</td>\n",
              "      <td>116365 km</td>\n",
              "      <td>4.0</td>\n",
              "      <td>Automatic</td>\n",
              "      <td>Front</td>\n",
              "      <td>04-May</td>\n",
              "      <td>Left wheel</td>\n",
              "      <td>Grey</td>\n",
              "      <td>4</td>\n",
              "    </tr>\n",
              "    <tr>\n",
              "      <th>19235</th>\n",
              "      <td>45793526</td>\n",
              "      <td>5331</td>\n",
              "      <td>1288.0</td>\n",
              "      <td>CHEVROLET</td>\n",
              "      <td>Captiva</td>\n",
              "      <td>2007</td>\n",
              "      <td>Jeep</td>\n",
              "      <td>Yes</td>\n",
              "      <td>Diesel</td>\n",
              "      <td>2</td>\n",
              "      <td>51258 km</td>\n",
              "      <td>4.0</td>\n",
              "      <td>Automatic</td>\n",
              "      <td>Front</td>\n",
              "      <td>04-May</td>\n",
              "      <td>Left wheel</td>\n",
              "      <td>Black</td>\n",
              "      <td>4</td>\n",
              "    </tr>\n",
              "    <tr>\n",
              "      <th>19236</th>\n",
              "      <td>45813273</td>\n",
              "      <td>470</td>\n",
              "      <td>753.0</td>\n",
              "      <td>HYUNDAI</td>\n",
              "      <td>Sonata</td>\n",
              "      <td>2012</td>\n",
              "      <td>Sedan</td>\n",
              "      <td>Yes</td>\n",
              "      <td>Hybrid</td>\n",
              "      <td>2.4</td>\n",
              "      <td>186923 km</td>\n",
              "      <td>4.0</td>\n",
              "      <td>Automatic</td>\n",
              "      <td>Front</td>\n",
              "      <td>04-May</td>\n",
              "      <td>Left wheel</td>\n",
              "      <td>White</td>\n",
              "      <td>12</td>\n",
              "    </tr>\n",
              "  </tbody>\n",
              "</table>\n",
              "<p>19237 rows × 18 columns</p>\n",
              "</div>"
            ],
            "text/plain": [
              "             ID  Price    Levy  ...             Wheel   Color  Airbags\n",
              "0      45654403  13328  1399.0  ...        Left wheel  Silver       12\n",
              "1      44731507  16621  1018.0  ...        Left wheel   Black        8\n",
              "2      45774419   8467     NaN  ...  Right-hand drive   Black        2\n",
              "3      45769185   3607   862.0  ...        Left wheel   White        0\n",
              "4      45809263  11726   446.0  ...        Left wheel  Silver        4\n",
              "...         ...    ...     ...  ...               ...     ...      ...\n",
              "19232  45798355   8467     NaN  ...        Left wheel  Silver        5\n",
              "19233  45778856  15681   831.0  ...        Left wheel     Red        8\n",
              "19234  45804997  26108   836.0  ...        Left wheel    Grey        4\n",
              "19235  45793526   5331  1288.0  ...        Left wheel   Black        4\n",
              "19236  45813273    470   753.0  ...        Left wheel   White       12\n",
              "\n",
              "[19237 rows x 18 columns]"
            ]
          },
          "metadata": {
            "tags": []
          },
          "execution_count": 319
        }
      ]
    },
    {
      "cell_type": "code",
      "metadata": {
        "colab": {
          "base_uri": "https://localhost:8080/"
        },
        "id": "e6W3pp85y4Er",
        "outputId": "24e79a1f-32bd-4cb8-8f1b-d3247d5f3270"
      },
      "source": [
        "train_data.isnull().sum()"
      ],
      "execution_count": null,
      "outputs": [
        {
          "output_type": "execute_result",
          "data": {
            "text/plain": [
              "ID                     0\n",
              "Price                  0\n",
              "Levy                5819\n",
              "Manufacturer           0\n",
              "Model                  0\n",
              "Prod. year             0\n",
              "Category               0\n",
              "Leather interior       0\n",
              "Fuel type              0\n",
              "Engine volume          0\n",
              "Mileage                0\n",
              "Cylinders              0\n",
              "Gear box type          0\n",
              "Drive wheels           0\n",
              "Doors                  0\n",
              "Wheel                  0\n",
              "Color                  0\n",
              "Airbags                0\n",
              "dtype: int64"
            ]
          },
          "metadata": {
            "tags": []
          },
          "execution_count": 320
        }
      ]
    },
    {
      "cell_type": "code",
      "metadata": {
        "colab": {
          "base_uri": "https://localhost:8080/"
        },
        "id": "zMmkFyYRzC2m",
        "outputId": "c4157573-4086-4099-c9f0-c5041720ec37"
      },
      "source": [
        "train_data.ID.unique().shape"
      ],
      "execution_count": null,
      "outputs": [
        {
          "output_type": "execute_result",
          "data": {
            "text/plain": [
              "(18924,)"
            ]
          },
          "metadata": {
            "tags": []
          },
          "execution_count": 321
        }
      ]
    },
    {
      "cell_type": "code",
      "metadata": {
        "colab": {
          "base_uri": "https://localhost:8080/",
          "height": 234
        },
        "id": "MHJLpdJI3Dj3",
        "outputId": "50fe5f6d-abac-40e2-874a-cd748274f40e"
      },
      "source": [
        "train_data.describe().T"
      ],
      "execution_count": null,
      "outputs": [
        {
          "output_type": "execute_result",
          "data": {
            "text/html": [
              "<div>\n",
              "<style scoped>\n",
              "    .dataframe tbody tr th:only-of-type {\n",
              "        vertical-align: middle;\n",
              "    }\n",
              "\n",
              "    .dataframe tbody tr th {\n",
              "        vertical-align: top;\n",
              "    }\n",
              "\n",
              "    .dataframe thead th {\n",
              "        text-align: right;\n",
              "    }\n",
              "</style>\n",
              "<table border=\"1\" class=\"dataframe\">\n",
              "  <thead>\n",
              "    <tr style=\"text-align: right;\">\n",
              "      <th></th>\n",
              "      <th>count</th>\n",
              "      <th>mean</th>\n",
              "      <th>std</th>\n",
              "      <th>min</th>\n",
              "      <th>25%</th>\n",
              "      <th>50%</th>\n",
              "      <th>75%</th>\n",
              "      <th>max</th>\n",
              "    </tr>\n",
              "  </thead>\n",
              "  <tbody>\n",
              "    <tr>\n",
              "      <th>ID</th>\n",
              "      <td>19237.0</td>\n",
              "      <td>4.557654e+07</td>\n",
              "      <td>936591.422799</td>\n",
              "      <td>20746880.0</td>\n",
              "      <td>45698374.0</td>\n",
              "      <td>45772308.0</td>\n",
              "      <td>45802036.0</td>\n",
              "      <td>45816654.0</td>\n",
              "    </tr>\n",
              "    <tr>\n",
              "      <th>Price</th>\n",
              "      <td>19237.0</td>\n",
              "      <td>1.855593e+04</td>\n",
              "      <td>190581.269684</td>\n",
              "      <td>1.0</td>\n",
              "      <td>5331.0</td>\n",
              "      <td>13172.0</td>\n",
              "      <td>22075.0</td>\n",
              "      <td>26307500.0</td>\n",
              "    </tr>\n",
              "    <tr>\n",
              "      <th>Levy</th>\n",
              "      <td>13418.0</td>\n",
              "      <td>9.068381e+02</td>\n",
              "      <td>461.867051</td>\n",
              "      <td>87.0</td>\n",
              "      <td>640.0</td>\n",
              "      <td>781.0</td>\n",
              "      <td>1058.0</td>\n",
              "      <td>11714.0</td>\n",
              "    </tr>\n",
              "    <tr>\n",
              "      <th>Prod. year</th>\n",
              "      <td>19237.0</td>\n",
              "      <td>2.010913e+03</td>\n",
              "      <td>5.668673</td>\n",
              "      <td>1939.0</td>\n",
              "      <td>2009.0</td>\n",
              "      <td>2012.0</td>\n",
              "      <td>2015.0</td>\n",
              "      <td>2020.0</td>\n",
              "    </tr>\n",
              "    <tr>\n",
              "      <th>Cylinders</th>\n",
              "      <td>19237.0</td>\n",
              "      <td>4.582991e+00</td>\n",
              "      <td>1.199933</td>\n",
              "      <td>1.0</td>\n",
              "      <td>4.0</td>\n",
              "      <td>4.0</td>\n",
              "      <td>4.0</td>\n",
              "      <td>16.0</td>\n",
              "    </tr>\n",
              "    <tr>\n",
              "      <th>Airbags</th>\n",
              "      <td>19237.0</td>\n",
              "      <td>6.582627e+00</td>\n",
              "      <td>4.320168</td>\n",
              "      <td>0.0</td>\n",
              "      <td>4.0</td>\n",
              "      <td>6.0</td>\n",
              "      <td>12.0</td>\n",
              "      <td>16.0</td>\n",
              "    </tr>\n",
              "  </tbody>\n",
              "</table>\n",
              "</div>"
            ],
            "text/plain": [
              "              count          mean  ...         75%         max\n",
              "ID          19237.0  4.557654e+07  ...  45802036.0  45816654.0\n",
              "Price       19237.0  1.855593e+04  ...     22075.0  26307500.0\n",
              "Levy        13418.0  9.068381e+02  ...      1058.0     11714.0\n",
              "Prod. year  19237.0  2.010913e+03  ...      2015.0      2020.0\n",
              "Cylinders   19237.0  4.582991e+00  ...         4.0        16.0\n",
              "Airbags     19237.0  6.582627e+00  ...        12.0        16.0\n",
              "\n",
              "[6 rows x 8 columns]"
            ]
          },
          "metadata": {
            "tags": []
          },
          "execution_count": 322
        }
      ]
    },
    {
      "cell_type": "code",
      "metadata": {
        "colab": {
          "base_uri": "https://localhost:8080/",
          "height": 172
        },
        "id": "_LGnyHnw3lol",
        "outputId": "815ca635-9d8e-4453-b5cb-d14f8ae19f0e"
      },
      "source": [
        "train_data.describe(include='object')"
      ],
      "execution_count": null,
      "outputs": [
        {
          "output_type": "execute_result",
          "data": {
            "text/html": [
              "<div>\n",
              "<style scoped>\n",
              "    .dataframe tbody tr th:only-of-type {\n",
              "        vertical-align: middle;\n",
              "    }\n",
              "\n",
              "    .dataframe tbody tr th {\n",
              "        vertical-align: top;\n",
              "    }\n",
              "\n",
              "    .dataframe thead th {\n",
              "        text-align: right;\n",
              "    }\n",
              "</style>\n",
              "<table border=\"1\" class=\"dataframe\">\n",
              "  <thead>\n",
              "    <tr style=\"text-align: right;\">\n",
              "      <th></th>\n",
              "      <th>Manufacturer</th>\n",
              "      <th>Model</th>\n",
              "      <th>Category</th>\n",
              "      <th>Leather interior</th>\n",
              "      <th>Fuel type</th>\n",
              "      <th>Engine volume</th>\n",
              "      <th>Mileage</th>\n",
              "      <th>Gear box type</th>\n",
              "      <th>Drive wheels</th>\n",
              "      <th>Doors</th>\n",
              "      <th>Wheel</th>\n",
              "      <th>Color</th>\n",
              "    </tr>\n",
              "  </thead>\n",
              "  <tbody>\n",
              "    <tr>\n",
              "      <th>count</th>\n",
              "      <td>19237</td>\n",
              "      <td>19237</td>\n",
              "      <td>19237</td>\n",
              "      <td>19237</td>\n",
              "      <td>19237</td>\n",
              "      <td>19237</td>\n",
              "      <td>19237</td>\n",
              "      <td>19237</td>\n",
              "      <td>19237</td>\n",
              "      <td>19237</td>\n",
              "      <td>19237</td>\n",
              "      <td>19237</td>\n",
              "    </tr>\n",
              "    <tr>\n",
              "      <th>unique</th>\n",
              "      <td>65</td>\n",
              "      <td>1590</td>\n",
              "      <td>11</td>\n",
              "      <td>2</td>\n",
              "      <td>7</td>\n",
              "      <td>107</td>\n",
              "      <td>7687</td>\n",
              "      <td>4</td>\n",
              "      <td>3</td>\n",
              "      <td>3</td>\n",
              "      <td>2</td>\n",
              "      <td>16</td>\n",
              "    </tr>\n",
              "    <tr>\n",
              "      <th>top</th>\n",
              "      <td>HYUNDAI</td>\n",
              "      <td>Prius</td>\n",
              "      <td>Sedan</td>\n",
              "      <td>Yes</td>\n",
              "      <td>Petrol</td>\n",
              "      <td>2</td>\n",
              "      <td>0 km</td>\n",
              "      <td>Automatic</td>\n",
              "      <td>Front</td>\n",
              "      <td>04-May</td>\n",
              "      <td>Left wheel</td>\n",
              "      <td>Black</td>\n",
              "    </tr>\n",
              "    <tr>\n",
              "      <th>freq</th>\n",
              "      <td>3769</td>\n",
              "      <td>1083</td>\n",
              "      <td>8736</td>\n",
              "      <td>13954</td>\n",
              "      <td>10150</td>\n",
              "      <td>3916</td>\n",
              "      <td>721</td>\n",
              "      <td>13514</td>\n",
              "      <td>12874</td>\n",
              "      <td>18332</td>\n",
              "      <td>17753</td>\n",
              "      <td>5033</td>\n",
              "    </tr>\n",
              "  </tbody>\n",
              "</table>\n",
              "</div>"
            ],
            "text/plain": [
              "       Manufacturer  Model Category  ...   Doors       Wheel  Color\n",
              "count         19237  19237    19237  ...   19237       19237  19237\n",
              "unique           65   1590       11  ...       3           2     16\n",
              "top         HYUNDAI  Prius    Sedan  ...  04-May  Left wheel  Black\n",
              "freq           3769   1083     8736  ...   18332       17753   5033\n",
              "\n",
              "[4 rows x 12 columns]"
            ]
          },
          "metadata": {
            "tags": []
          },
          "execution_count": 323
        }
      ]
    },
    {
      "cell_type": "markdown",
      "metadata": {
        "id": "tMNmq1OR9nE0"
      },
      "source": [
        "Data Cleaning and Filter"
      ]
    },
    {
      "cell_type": "code",
      "metadata": {
        "id": "VMi_64yM7ZXm"
      },
      "source": [
        "train_data['Levy'].fillna(train_data['Levy'].median(),inplace=True)"
      ],
      "execution_count": null,
      "outputs": []
    },
    {
      "cell_type": "code",
      "metadata": {
        "colab": {
          "base_uri": "https://localhost:8080/"
        },
        "id": "Kq15OpKx-L0S",
        "outputId": "602ff401-8a52-403b-823a-8e2b2c0965e1"
      },
      "source": [
        "train_data.columns"
      ],
      "execution_count": null,
      "outputs": [
        {
          "output_type": "execute_result",
          "data": {
            "text/plain": [
              "Index(['ID', 'Price', 'Levy', 'Manufacturer', 'Model', 'Prod. year',\n",
              "       'Category', 'Leather interior', 'Fuel type', 'Engine volume', 'Mileage',\n",
              "       'Cylinders', 'Gear box type', 'Drive wheels', 'Doors', 'Wheel', 'Color',\n",
              "       'Airbags'],\n",
              "      dtype='object')"
            ]
          },
          "metadata": {
            "tags": []
          },
          "execution_count": 325
        }
      ]
    },
    {
      "cell_type": "code",
      "metadata": {
        "colab": {
          "base_uri": "https://localhost:8080/",
          "height": 1000
        },
        "id": "A3np6wlT-OHy",
        "outputId": "f3254996-088d-44a8-c2e4-e99edf413196"
      },
      "source": [
        "\n",
        "\n",
        "sns.pairplot(train_data)\n"
      ],
      "execution_count": null,
      "outputs": [
        {
          "output_type": "execute_result",
          "data": {
            "text/plain": [
              "<seaborn.axisgrid.PairGrid at 0x7f78038fa0d0>"
            ]
          },
          "metadata": {
            "tags": []
          },
          "execution_count": 326
        },
        {
          "output_type": "display_data",
          "data": {
            "image/png": "[encoded data removed]",
            "text/plain": [
              "<Figure size 1080x1080 with 42 Axes>"
            ]
          },
          "metadata": {
            "tags": [],
            "needs_background": "light"
          }
        }
      ]
    },
    {
      "cell_type": "code",
      "metadata": {
        "colab": {
          "base_uri": "https://localhost:8080/",
          "height": 234
        },
        "id": "OZDPoU6VCPGv",
        "outputId": "ee666a93-a997-4b60-fb46-1d2ca0eabb6b"
      },
      "source": [
        "train_data.corr()"
      ],
      "execution_count": null,
      "outputs": [
        {
          "output_type": "execute_result",
          "data": {
            "text/html": [
              "<div>\n",
              "<style scoped>\n",
              "    .dataframe tbody tr th:only-of-type {\n",
              "        vertical-align: middle;\n",
              "    }\n",
              "\n",
              "    .dataframe tbody tr th {\n",
              "        vertical-align: top;\n",
              "    }\n",
              "\n",
              "    .dataframe thead th {\n",
              "        text-align: right;\n",
              "    }\n",
              "</style>\n",
              "<table border=\"1\" class=\"dataframe\">\n",
              "  <thead>\n",
              "    <tr style=\"text-align: right;\">\n",
              "      <th></th>\n",
              "      <th>ID</th>\n",
              "      <th>Price</th>\n",
              "      <th>Levy</th>\n",
              "      <th>Prod. year</th>\n",
              "      <th>Cylinders</th>\n",
              "      <th>Airbags</th>\n",
              "    </tr>\n",
              "  </thead>\n",
              "  <tbody>\n",
              "    <tr>\n",
              "      <th>ID</th>\n",
              "      <td>1.000000</td>\n",
              "      <td>-0.000844</td>\n",
              "      <td>0.013221</td>\n",
              "      <td>0.071352</td>\n",
              "      <td>-0.039319</td>\n",
              "      <td>-0.020527</td>\n",
              "    </tr>\n",
              "    <tr>\n",
              "      <th>Price</th>\n",
              "      <td>-0.000844</td>\n",
              "      <td>1.000000</td>\n",
              "      <td>0.003828</td>\n",
              "      <td>0.012982</td>\n",
              "      <td>0.007518</td>\n",
              "      <td>-0.012824</td>\n",
              "    </tr>\n",
              "    <tr>\n",
              "      <th>Levy</th>\n",
              "      <td>0.013221</td>\n",
              "      <td>0.003828</td>\n",
              "      <td>1.000000</td>\n",
              "      <td>-0.017424</td>\n",
              "      <td>0.442526</td>\n",
              "      <td>0.085488</td>\n",
              "    </tr>\n",
              "    <tr>\n",
              "      <th>Prod. year</th>\n",
              "      <td>0.071352</td>\n",
              "      <td>0.012982</td>\n",
              "      <td>-0.017424</td>\n",
              "      <td>1.000000</td>\n",
              "      <td>-0.096797</td>\n",
              "      <td>0.236969</td>\n",
              "    </tr>\n",
              "    <tr>\n",
              "      <th>Cylinders</th>\n",
              "      <td>-0.039319</td>\n",
              "      <td>0.007518</td>\n",
              "      <td>0.442526</td>\n",
              "      <td>-0.096797</td>\n",
              "      <td>1.000000</td>\n",
              "      <td>0.176868</td>\n",
              "    </tr>\n",
              "    <tr>\n",
              "      <th>Airbags</th>\n",
              "      <td>-0.020527</td>\n",
              "      <td>-0.012824</td>\n",
              "      <td>0.085488</td>\n",
              "      <td>0.236969</td>\n",
              "      <td>0.176868</td>\n",
              "      <td>1.000000</td>\n",
              "    </tr>\n",
              "  </tbody>\n",
              "</table>\n",
              "</div>"
            ],
            "text/plain": [
              "                  ID     Price      Levy  Prod. year  Cylinders   Airbags\n",
              "ID          1.000000 -0.000844  0.013221    0.071352  -0.039319 -0.020527\n",
              "Price      -0.000844  1.000000  0.003828    0.012982   0.007518 -0.012824\n",
              "Levy        0.013221  0.003828  1.000000   -0.017424   0.442526  0.085488\n",
              "Prod. year  0.071352  0.012982 -0.017424    1.000000  -0.096797  0.236969\n",
              "Cylinders  -0.039319  0.007518  0.442526   -0.096797   1.000000  0.176868\n",
              "Airbags    -0.020527 -0.012824  0.085488    0.236969   0.176868  1.000000"
            ]
          },
          "metadata": {
            "tags": []
          },
          "execution_count": 327
        }
      ]
    },
    {
      "cell_type": "markdown",
      "metadata": {
        "id": "nLxbuDTnKXmZ"
      },
      "source": [
        "Index(['ID', 'Price', 'Levy', 'Manufacturer', 'Model', 'Prod. year',\n",
        "       'Category', 'Leather interior', 'Fuel type', 'Engine volume', 'Mileage',\n",
        "       'Cylinders', 'Gear box type', 'Drive wheels', 'Doors', 'Wheel', 'Color',\n",
        "       'Airbags'],"
      ]
    },
    {
      "cell_type": "code",
      "metadata": {
        "id": "n_ShY1otHuyM"
      },
      "source": [
        "#  feature is just a key mens does not any affect on Price,so we will drop it------\n",
        "train_data=train_data.drop('ID',axis=1)"
      ],
      "execution_count": null,
      "outputs": []
    },
    {
      "cell_type": "code",
      "metadata": {
        "colab": {
          "base_uri": "https://localhost:8080/"
        },
        "id": "VGa1FocKN2-P",
        "outputId": "70d6aa28-b5ab-423a-bf1e-f862ac33dd44"
      },
      "source": [
        "train_data.shape"
      ],
      "execution_count": null,
      "outputs": [
        {
          "output_type": "execute_result",
          "data": {
            "text/plain": [
              "(19237, 17)"
            ]
          },
          "metadata": {
            "tags": []
          },
          "execution_count": 329
        }
      ]
    },
    {
      "cell_type": "markdown",
      "metadata": {
        "id": "UocAA6qQRwkB"
      },
      "source": [
        "1-Numerical features"
      ]
    },
    {
      "cell_type": "code",
      "metadata": {
        "colab": {
          "base_uri": "https://localhost:8080/",
          "height": 350
        },
        "id": "JJg7NmlNcxVg",
        "outputId": "8961dbc7-c400-4f68-989f-0fda38302584"
      },
      "source": [
        "sns.distplot(train_data['Levy'])          #skewed distribution"
      ],
      "execution_count": null,
      "outputs": [
        {
          "output_type": "stream",
          "text": [
            "/usr/local/lib/python3.7/dist-packages/seaborn/distributions.py:2557: FutureWarning: `distplot` is a deprecated function and will be removed in a future version. Please adapt your code to use either `displot` (a figure-level function with similar flexibility) or `histplot` (an axes-level function for histograms).\n",
            "  warnings.warn(msg, FutureWarning)\n"
          ],
          "name": "stderr"
        },
        {
          "output_type": "execute_result",
          "data": {
            "text/plain": [
              "<matplotlib.axes._subplots.AxesSubplot at 0x7f77f2635050>"
            ]
          },
          "metadata": {
            "tags": []
          },
          "execution_count": 330
        },
        {
          "output_type": "display_data",
          "data": {
            "image/png": "[encoded data removed]",
            "text/plain": [
              "<Figure size 432x288 with 1 Axes>"
            ]
          },
          "metadata": {
            "tags": [],
            "needs_background": "light"
          }
        }
      ]
    },
    {
      "cell_type": "code",
      "metadata": {
        "id": "f3tfaHVnQr-j"
      },
      "source": [
        "train_data['Levy']=np.log(train_data['Levy'])"
      ],
      "execution_count": null,
      "outputs": []
    },
    {
      "cell_type": "code",
      "metadata": {
        "colab": {
          "base_uri": "https://localhost:8080/",
          "height": 350
        },
        "id": "qyn-VjKpP05t",
        "outputId": "a8745a34-8124-4348-86c0-c0a66dbd2617"
      },
      "source": [
        "sns.distplot(np.log(train_data['Levy']))       #transformed into log normal distribution"
      ],
      "execution_count": null,
      "outputs": [
        {
          "output_type": "stream",
          "text": [
            "/usr/local/lib/python3.7/dist-packages/seaborn/distributions.py:2557: FutureWarning: `distplot` is a deprecated function and will be removed in a future version. Please adapt your code to use either `displot` (a figure-level function with similar flexibility) or `histplot` (an axes-level function for histograms).\n",
            "  warnings.warn(msg, FutureWarning)\n"
          ],
          "name": "stderr"
        },
        {
          "output_type": "execute_result",
          "data": {
            "text/plain": [
              "<matplotlib.axes._subplots.AxesSubplot at 0x7f77f2064b50>"
            ]
          },
          "metadata": {
            "tags": []
          },
          "execution_count": 332
        },
        {
          "output_type": "display_data",
          "data": {
            "image/png": "[encoded data removed]",
            "text/plain": [
              "<Figure size 432x288 with 1 Axes>"
            ]
          },
          "metadata": {
            "tags": [],
            "needs_background": "light"
          }
        }
      ]
    },
    {
      "cell_type": "code",
      "metadata": {
        "colab": {
          "base_uri": "https://localhost:8080/",
          "height": 307
        },
        "id": "6e5i3ueORML1",
        "outputId": "77a79384-e5fe-4a25-a722-6bd65bf6527f"
      },
      "source": [
        "#scatter graph--------\n",
        "sns.regplot(x='Levy',y='Price',data=train_data)        #----->important feature"
      ],
      "execution_count": null,
      "outputs": [
        {
          "output_type": "execute_result",
          "data": {
            "text/plain": [
              "<matplotlib.axes._subplots.AxesSubplot at 0x7f77f1f17410>"
            ]
          },
          "metadata": {
            "tags": []
          },
          "execution_count": 333
        },
        {
          "output_type": "display_data",
          "data": {
            "image/png": "[encoded data removed]",
            "text/plain": [
              "<Figure size 432x288 with 1 Axes>"
            ]
          },
          "metadata": {
            "tags": [],
            "needs_background": "light"
          }
        }
      ]
    },
    {
      "cell_type": "code",
      "metadata": {
        "id": "guiw_npkRnbL"
      },
      "source": [
        "#2--Prod. year----------->\n",
        "train_data['Age']=2021-train_data['Prod. year']"
      ],
      "execution_count": null,
      "outputs": []
    },
    {
      "cell_type": "code",
      "metadata": {
        "id": "c7fYHcWIVCSz"
      },
      "source": [
        "train_data=train_data.drop('Prod. year',axis=1)"
      ],
      "execution_count": null,
      "outputs": []
    },
    {
      "cell_type": "code",
      "metadata": {
        "colab": {
          "base_uri": "https://localhost:8080/",
          "height": 602
        },
        "id": "y9W1Kq9CgLKz",
        "outputId": "988f7043-ccbb-437e-b312-17dc0bbbda53"
      },
      "source": [
        "train_data"
      ],
      "execution_count": null,
      "outputs": [
        {
          "output_type": "execute_result",
          "data": {
            "text/html": [
              "<div>\n",
              "<style scoped>\n",
              "    .dataframe tbody tr th:only-of-type {\n",
              "        vertical-align: middle;\n",
              "    }\n",
              "\n",
              "    .dataframe tbody tr th {\n",
              "        vertical-align: top;\n",
              "    }\n",
              "\n",
              "    .dataframe thead th {\n",
              "        text-align: right;\n",
              "    }\n",
              "</style>\n",
              "<table border=\"1\" class=\"dataframe\">\n",
              "  <thead>\n",
              "    <tr style=\"text-align: right;\">\n",
              "      <th></th>\n",
              "      <th>Price</th>\n",
              "      <th>Levy</th>\n",
              "      <th>Manufacturer</th>\n",
              "      <th>Model</th>\n",
              "      <th>Category</th>\n",
              "      <th>Leather interior</th>\n",
              "      <th>Fuel type</th>\n",
              "      <th>Engine volume</th>\n",
              "      <th>Mileage</th>\n",
              "      <th>Cylinders</th>\n",
              "      <th>Gear box type</th>\n",
              "      <th>Drive wheels</th>\n",
              "      <th>Doors</th>\n",
              "      <th>Wheel</th>\n",
              "      <th>Color</th>\n",
              "      <th>Airbags</th>\n",
              "      <th>Age</th>\n",
              "    </tr>\n",
              "  </thead>\n",
              "  <tbody>\n",
              "    <tr>\n",
              "      <th>0</th>\n",
              "      <td>13328</td>\n",
              "      <td>7.243513</td>\n",
              "      <td>LEXUS</td>\n",
              "      <td>RX 450</td>\n",
              "      <td>Jeep</td>\n",
              "      <td>Yes</td>\n",
              "      <td>Hybrid</td>\n",
              "      <td>3.5</td>\n",
              "      <td>186005 km</td>\n",
              "      <td>6.0</td>\n",
              "      <td>Automatic</td>\n",
              "      <td>4x4</td>\n",
              "      <td>04-May</td>\n",
              "      <td>Left wheel</td>\n",
              "      <td>Silver</td>\n",
              "      <td>12</td>\n",
              "      <td>11</td>\n",
              "    </tr>\n",
              "    <tr>\n",
              "      <th>1</th>\n",
              "      <td>16621</td>\n",
              "      <td>6.925595</td>\n",
              "      <td>CHEVROLET</td>\n",
              "      <td>Equinox</td>\n",
              "      <td>Jeep</td>\n",
              "      <td>No</td>\n",
              "      <td>Petrol</td>\n",
              "      <td>3</td>\n",
              "      <td>192000 km</td>\n",
              "      <td>6.0</td>\n",
              "      <td>Tiptronic</td>\n",
              "      <td>4x4</td>\n",
              "      <td>04-May</td>\n",
              "      <td>Left wheel</td>\n",
              "      <td>Black</td>\n",
              "      <td>8</td>\n",
              "      <td>10</td>\n",
              "    </tr>\n",
              "    <tr>\n",
              "      <th>2</th>\n",
              "      <td>8467</td>\n",
              "      <td>6.660575</td>\n",
              "      <td>HONDA</td>\n",
              "      <td>FIT</td>\n",
              "      <td>Hatchback</td>\n",
              "      <td>No</td>\n",
              "      <td>Petrol</td>\n",
              "      <td>1.3</td>\n",
              "      <td>200000 km</td>\n",
              "      <td>4.0</td>\n",
              "      <td>Variator</td>\n",
              "      <td>Front</td>\n",
              "      <td>04-May</td>\n",
              "      <td>Right-hand drive</td>\n",
              "      <td>Black</td>\n",
              "      <td>2</td>\n",
              "      <td>15</td>\n",
              "    </tr>\n",
              "    <tr>\n",
              "      <th>3</th>\n",
              "      <td>3607</td>\n",
              "      <td>6.759255</td>\n",
              "      <td>FORD</td>\n",
              "      <td>Escape</td>\n",
              "      <td>Jeep</td>\n",
              "      <td>Yes</td>\n",
              "      <td>Hybrid</td>\n",
              "      <td>2.5</td>\n",
              "      <td>168966 km</td>\n",
              "      <td>4.0</td>\n",
              "      <td>Automatic</td>\n",
              "      <td>4x4</td>\n",
              "      <td>04-May</td>\n",
              "      <td>Left wheel</td>\n",
              "      <td>White</td>\n",
              "      <td>0</td>\n",
              "      <td>10</td>\n",
              "    </tr>\n",
              "    <tr>\n",
              "      <th>4</th>\n",
              "      <td>11726</td>\n",
              "      <td>6.100319</td>\n",
              "      <td>HONDA</td>\n",
              "      <td>FIT</td>\n",
              "      <td>Hatchback</td>\n",
              "      <td>Yes</td>\n",
              "      <td>Petrol</td>\n",
              "      <td>1.3</td>\n",
              "      <td>91901 km</td>\n",
              "      <td>4.0</td>\n",
              "      <td>Automatic</td>\n",
              "      <td>Front</td>\n",
              "      <td>04-May</td>\n",
              "      <td>Left wheel</td>\n",
              "      <td>Silver</td>\n",
              "      <td>4</td>\n",
              "      <td>7</td>\n",
              "    </tr>\n",
              "    <tr>\n",
              "      <th>...</th>\n",
              "      <td>...</td>\n",
              "      <td>...</td>\n",
              "      <td>...</td>\n",
              "      <td>...</td>\n",
              "      <td>...</td>\n",
              "      <td>...</td>\n",
              "      <td>...</td>\n",
              "      <td>...</td>\n",
              "      <td>...</td>\n",
              "      <td>...</td>\n",
              "      <td>...</td>\n",
              "      <td>...</td>\n",
              "      <td>...</td>\n",
              "      <td>...</td>\n",
              "      <td>...</td>\n",
              "      <td>...</td>\n",
              "      <td>...</td>\n",
              "    </tr>\n",
              "    <tr>\n",
              "      <th>19232</th>\n",
              "      <td>8467</td>\n",
              "      <td>6.660575</td>\n",
              "      <td>MERCEDES-BENZ</td>\n",
              "      <td>CLK 200</td>\n",
              "      <td>Coupe</td>\n",
              "      <td>Yes</td>\n",
              "      <td>CNG</td>\n",
              "      <td>2.0 Turbo</td>\n",
              "      <td>300000 km</td>\n",
              "      <td>4.0</td>\n",
              "      <td>Manual</td>\n",
              "      <td>Rear</td>\n",
              "      <td>02-Mar</td>\n",
              "      <td>Left wheel</td>\n",
              "      <td>Silver</td>\n",
              "      <td>5</td>\n",
              "      <td>22</td>\n",
              "    </tr>\n",
              "    <tr>\n",
              "      <th>19233</th>\n",
              "      <td>15681</td>\n",
              "      <td>6.722630</td>\n",
              "      <td>HYUNDAI</td>\n",
              "      <td>Sonata</td>\n",
              "      <td>Sedan</td>\n",
              "      <td>Yes</td>\n",
              "      <td>Petrol</td>\n",
              "      <td>2.4</td>\n",
              "      <td>161600 km</td>\n",
              "      <td>4.0</td>\n",
              "      <td>Tiptronic</td>\n",
              "      <td>Front</td>\n",
              "      <td>04-May</td>\n",
              "      <td>Left wheel</td>\n",
              "      <td>Red</td>\n",
              "      <td>8</td>\n",
              "      <td>10</td>\n",
              "    </tr>\n",
              "    <tr>\n",
              "      <th>19234</th>\n",
              "      <td>26108</td>\n",
              "      <td>6.728629</td>\n",
              "      <td>HYUNDAI</td>\n",
              "      <td>Tucson</td>\n",
              "      <td>Jeep</td>\n",
              "      <td>Yes</td>\n",
              "      <td>Diesel</td>\n",
              "      <td>2</td>\n",
              "      <td>116365 km</td>\n",
              "      <td>4.0</td>\n",
              "      <td>Automatic</td>\n",
              "      <td>Front</td>\n",
              "      <td>04-May</td>\n",
              "      <td>Left wheel</td>\n",
              "      <td>Grey</td>\n",
              "      <td>4</td>\n",
              "      <td>11</td>\n",
              "    </tr>\n",
              "    <tr>\n",
              "      <th>19235</th>\n",
              "      <td>5331</td>\n",
              "      <td>7.160846</td>\n",
              "      <td>CHEVROLET</td>\n",
              "      <td>Captiva</td>\n",
              "      <td>Jeep</td>\n",
              "      <td>Yes</td>\n",
              "      <td>Diesel</td>\n",
              "      <td>2</td>\n",
              "      <td>51258 km</td>\n",
              "      <td>4.0</td>\n",
              "      <td>Automatic</td>\n",
              "      <td>Front</td>\n",
              "      <td>04-May</td>\n",
              "      <td>Left wheel</td>\n",
              "      <td>Black</td>\n",
              "      <td>4</td>\n",
              "      <td>14</td>\n",
              "    </tr>\n",
              "    <tr>\n",
              "      <th>19236</th>\n",
              "      <td>470</td>\n",
              "      <td>6.624065</td>\n",
              "      <td>HYUNDAI</td>\n",
              "      <td>Sonata</td>\n",
              "      <td>Sedan</td>\n",
              "      <td>Yes</td>\n",
              "      <td>Hybrid</td>\n",
              "      <td>2.4</td>\n",
              "      <td>186923 km</td>\n",
              "      <td>4.0</td>\n",
              "      <td>Automatic</td>\n",
              "      <td>Front</td>\n",
              "      <td>04-May</td>\n",
              "      <td>Left wheel</td>\n",
              "      <td>White</td>\n",
              "      <td>12</td>\n",
              "      <td>9</td>\n",
              "    </tr>\n",
              "  </tbody>\n",
              "</table>\n",
              "<p>19237 rows × 17 columns</p>\n",
              "</div>"
            ],
            "text/plain": [
              "       Price      Levy   Manufacturer  ...   Color Airbags Age\n",
              "0      13328  7.243513          LEXUS  ...  Silver      12  11\n",
              "1      16621  6.925595      CHEVROLET  ...   Black       8  10\n",
              "2       8467  6.660575          HONDA  ...   Black       2  15\n",
              "3       3607  6.759255           FORD  ...   White       0  10\n",
              "4      11726  6.100319          HONDA  ...  Silver       4   7\n",
              "...      ...       ...            ...  ...     ...     ...  ..\n",
              "19232   8467  6.660575  MERCEDES-BENZ  ...  Silver       5  22\n",
              "19233  15681  6.722630        HYUNDAI  ...     Red       8  10\n",
              "19234  26108  6.728629        HYUNDAI  ...    Grey       4  11\n",
              "19235   5331  7.160846      CHEVROLET  ...   Black       4  14\n",
              "19236    470  6.624065        HYUNDAI  ...   White      12   9\n",
              "\n",
              "[19237 rows x 17 columns]"
            ]
          },
          "metadata": {
            "tags": []
          },
          "execution_count": 336
        }
      ]
    },
    {
      "cell_type": "code",
      "metadata": {
        "colab": {
          "base_uri": "https://localhost:8080/",
          "height": 350
        },
        "id": "XuIYOSOlgcsf",
        "outputId": "36039b87-8070-4127-90d6-482ba1ebb0e0"
      },
      "source": [
        "sns.distplot(train_data['Age'])"
      ],
      "execution_count": null,
      "outputs": [
        {
          "output_type": "stream",
          "text": [
            "/usr/local/lib/python3.7/dist-packages/seaborn/distributions.py:2557: FutureWarning: `distplot` is a deprecated function and will be removed in a future version. Please adapt your code to use either `displot` (a figure-level function with similar flexibility) or `histplot` (an axes-level function for histograms).\n",
            "  warnings.warn(msg, FutureWarning)\n"
          ],
          "name": "stderr"
        },
        {
          "output_type": "execute_result",
          "data": {
            "text/plain": [
              "<matplotlib.axes._subplots.AxesSubplot at 0x7f77f1961050>"
            ]
          },
          "metadata": {
            "tags": []
          },
          "execution_count": 337
        },
        {
          "output_type": "display_data",
          "data": {
            "image/png": "[encoded data removed]",
            "text/plain": [
              "<Figure size 432x288 with 1 Axes>"
            ]
          },
          "metadata": {
            "tags": [],
            "needs_background": "light"
          }
        }
      ]
    },
    {
      "cell_type": "code",
      "metadata": {
        "colab": {
          "base_uri": "https://localhost:8080/",
          "height": 307
        },
        "id": "4_txx3uggz_Z",
        "outputId": "53f447b5-aeb5-4432-aa08-4bad97006d54"
      },
      "source": [
        "sns.scatterplot(x='Age',y='Price',data=train_data)   #---------->important feature"
      ],
      "execution_count": null,
      "outputs": [
        {
          "output_type": "execute_result",
          "data": {
            "text/plain": [
              "<matplotlib.axes._subplots.AxesSubplot at 0x7f77f1fd71d0>"
            ]
          },
          "metadata": {
            "tags": []
          },
          "execution_count": 338
        },
        {
          "output_type": "display_data",
          "data": {
            "image/png": "[encoded data removed]",
            "text/plain": [
              "<Figure size 432x288 with 1 Axes>"
            ]
          },
          "metadata": {
            "tags": [],
            "needs_background": "light"
          }
        }
      ]
    },
    {
      "cell_type": "code",
      "metadata": {
        "colab": {
          "base_uri": "https://localhost:8080/",
          "height": 296
        },
        "id": "avHBo4HGhFQw",
        "outputId": "b00a98ce-cb7e-4f4b-e249-a6385cc2123c"
      },
      "source": [
        "sns.boxplot(x=train_data['Age'])"
      ],
      "execution_count": null,
      "outputs": [
        {
          "output_type": "execute_result",
          "data": {
            "text/plain": [
              "<matplotlib.axes._subplots.AxesSubplot at 0x7f77f07be050>"
            ]
          },
          "metadata": {
            "tags": []
          },
          "execution_count": 339
        },
        {
          "output_type": "display_data",
          "data": {
            "image/png": "[encoded data removed]",
            "text/plain": [
              "<Figure size 432x288 with 1 Axes>"
            ]
          },
          "metadata": {
            "tags": [],
            "needs_background": "light"
          }
        }
      ]
    },
    {
      "cell_type": "code",
      "metadata": {
        "colab": {
          "base_uri": "https://localhost:8080/",
          "height": 307
        },
        "id": "LnthpF0GhztE",
        "outputId": "c6b41d63-066d-4b18-8bd2-8d50a797021e"
      },
      "source": [
        "#cylinders ---------->\n",
        "sns.regplot(x='Cylinders',y='Price',data=train_data)"
      ],
      "execution_count": null,
      "outputs": [
        {
          "output_type": "execute_result",
          "data": {
            "text/plain": [
              "<matplotlib.axes._subplots.AxesSubplot at 0x7f77f108d850>"
            ]
          },
          "metadata": {
            "tags": []
          },
          "execution_count": 340
        },
        {
          "output_type": "display_data",
          "data": {
            "image/png": "[encoded data removed]",
            "text/plain": [
              "<Figure size 432x288 with 1 Axes>"
            ]
          },
          "metadata": {
            "tags": [],
            "needs_background": "light"
          }
        }
      ]
    },
    {
      "cell_type": "code",
      "metadata": {
        "id": "G62ihWYUquSr"
      },
      "source": [
        "train_data[['Cylinders','Airbags']]=train_data[['Cylinders','Airbags']].astype('object')"
      ],
      "execution_count": null,
      "outputs": []
    },
    {
      "cell_type": "code",
      "metadata": {
        "colab": {
          "base_uri": "https://localhost:8080/",
          "height": 350
        },
        "id": "3HggdTp7srNv",
        "outputId": "f612c534-c5fb-43cf-b4c7-cf2391a4627d"
      },
      "source": [
        "#cylinders-----\n",
        "sns.countplot(train_data['Cylinders'])"
      ],
      "execution_count": null,
      "outputs": [
        {
          "output_type": "stream",
          "text": [
            "/usr/local/lib/python3.7/dist-packages/seaborn/_decorators.py:43: FutureWarning: Pass the following variable as a keyword arg: x. From version 0.12, the only valid positional argument will be `data`, and passing other arguments without an explicit keyword will result in an error or misinterpretation.\n",
            "  FutureWarning\n"
          ],
          "name": "stderr"
        },
        {
          "output_type": "execute_result",
          "data": {
            "text/plain": [
              "<matplotlib.axes._subplots.AxesSubplot at 0x7f77efc6c750>"
            ]
          },
          "metadata": {
            "tags": []
          },
          "execution_count": 342
        },
        {
          "output_type": "display_data",
          "data": {
            "image/png": "[encoded data removed]",
            "text/plain": [
              "<Figure size 432x288 with 1 Axes>"
            ]
          },
          "metadata": {
            "tags": [],
            "needs_background": "light"
          }
        }
      ]
    },
    {
      "cell_type": "code",
      "metadata": {
        "id": "wfSHqoLbH-KQ"
      },
      "source": [
        "train_data['Cylinders']=train_data['Cylinders'].map(train_data['Cylinders'].value_counts().to_dict())"
      ],
      "execution_count": null,
      "outputs": []
    },
    {
      "cell_type": "code",
      "metadata": {
        "id": "7eXf9SgdLDxf"
      },
      "source": [
        "train_data['Cylinders']=train_data['Cylinders'].astype('float')"
      ],
      "execution_count": null,
      "outputs": []
    },
    {
      "cell_type": "code",
      "metadata": {
        "colab": {
          "base_uri": "https://localhost:8080/",
          "height": 350
        },
        "id": "ynBuxwbGkgwQ",
        "outputId": "f3926586-36c1-4644-9396-580e913255d1"
      },
      "source": [
        "sns.distplot(train_data['Cylinders'])"
      ],
      "execution_count": null,
      "outputs": [
        {
          "output_type": "stream",
          "text": [
            "/usr/local/lib/python3.7/dist-packages/seaborn/distributions.py:2557: FutureWarning: `distplot` is a deprecated function and will be removed in a future version. Please adapt your code to use either `displot` (a figure-level function with similar flexibility) or `histplot` (an axes-level function for histograms).\n",
            "  warnings.warn(msg, FutureWarning)\n"
          ],
          "name": "stderr"
        },
        {
          "output_type": "execute_result",
          "data": {
            "text/plain": [
              "<matplotlib.axes._subplots.AxesSubplot at 0x7f77efb366d0>"
            ]
          },
          "metadata": {
            "tags": []
          },
          "execution_count": 345
        },
        {
          "output_type": "display_data",
          "data": {
            "image/png": "[encoded data removed]",
            "text/plain": [
              "<Figure size 432x288 with 1 Axes>"
            ]
          },
          "metadata": {
            "tags": [],
            "needs_background": "light"
          }
        }
      ]
    },
    {
      "cell_type": "code",
      "metadata": {
        "colab": {
          "base_uri": "https://localhost:8080/",
          "height": 307
        },
        "id": "0aZTj2q5LRHb",
        "outputId": "472ddc83-f53b-4f0c-9c74-847bed111c78"
      },
      "source": [
        "sns.regplot(x='Cylinders',y='Price',data=train_data)"
      ],
      "execution_count": null,
      "outputs": [
        {
          "output_type": "execute_result",
          "data": {
            "text/plain": [
              "<matplotlib.axes._subplots.AxesSubplot at 0x7f77efb5fa50>"
            ]
          },
          "metadata": {
            "tags": []
          },
          "execution_count": 346
        },
        {
          "output_type": "display_data",
          "data": {
            "image/png": "[encoded data removed]",
            "text/plain": [
              "<Figure size 432x288 with 1 Axes>"
            ]
          },
          "metadata": {
            "tags": [],
            "needs_background": "light"
          }
        }
      ]
    },
    {
      "cell_type": "code",
      "metadata": {
        "colab": {
          "base_uri": "https://localhost:8080/",
          "height": 296
        },
        "id": "XF0tr_b0uB63",
        "outputId": "57e157b9-1713-4bfc-e0ac-163ef7d40af1"
      },
      "source": [
        "#Airbags---->\n",
        "sns.countplot(x=\"Airbags\",data=train_data)"
      ],
      "execution_count": null,
      "outputs": [
        {
          "output_type": "execute_result",
          "data": {
            "text/plain": [
              "<matplotlib.axes._subplots.AxesSubplot at 0x7f77efc1e310>"
            ]
          },
          "metadata": {
            "tags": []
          },
          "execution_count": 347
        },
        {
          "output_type": "display_data",
          "data": {
            "image/png": "[encoded data removed]",
            "text/plain": [
              "<Figure size 432x288 with 1 Axes>"
            ]
          },
          "metadata": {
            "tags": [],
            "needs_background": "light"
          }
        }
      ]
    },
    {
      "cell_type": "code",
      "metadata": {
        "colab": {
          "base_uri": "https://localhost:8080/"
        },
        "id": "7BxZfPlmHhjg",
        "outputId": "c3fc2e8e-4c47-41f1-c963-64532043dc1a"
      },
      "source": [
        "train_data['Airbags'].unique()"
      ],
      "execution_count": null,
      "outputs": [
        {
          "output_type": "execute_result",
          "data": {
            "text/plain": [
              "array([12, 8, 2, 0, 4, 6, 10, 3, 1, 16, 5, 7, 9, 11, 14, 15, 13],\n",
              "      dtype=object)"
            ]
          },
          "metadata": {
            "tags": []
          },
          "execution_count": 348
        }
      ]
    },
    {
      "cell_type": "code",
      "metadata": {
        "id": "9OiVyQLDdS1T"
      },
      "source": [
        "train_data['Airbags']=train_data['Airbags'].map(train_data['Airbags'].value_counts().to_dict())"
      ],
      "execution_count": null,
      "outputs": []
    },
    {
      "cell_type": "code",
      "metadata": {
        "id": "B7IbNN5dd-iq"
      },
      "source": [
        "train_data['Airbags']=train_data['Airbags'].astype('float')"
      ],
      "execution_count": null,
      "outputs": []
    },
    {
      "cell_type": "code",
      "metadata": {
        "colab": {
          "base_uri": "https://localhost:8080/",
          "height": 350
        },
        "id": "ZG-ceg0MkuMy",
        "outputId": "976b27f0-0518-4d39-890e-d60f5d895805"
      },
      "source": [
        "sns.distplot(train_data['Airbags'])"
      ],
      "execution_count": null,
      "outputs": [
        {
          "output_type": "stream",
          "text": [
            "/usr/local/lib/python3.7/dist-packages/seaborn/distributions.py:2557: FutureWarning: `distplot` is a deprecated function and will be removed in a future version. Please adapt your code to use either `displot` (a figure-level function with similar flexibility) or `histplot` (an axes-level function for histograms).\n",
            "  warnings.warn(msg, FutureWarning)\n"
          ],
          "name": "stderr"
        },
        {
          "output_type": "execute_result",
          "data": {
            "text/plain": [
              "<matplotlib.axes._subplots.AxesSubplot at 0x7f77efbe0210>"
            ]
          },
          "metadata": {
            "tags": []
          },
          "execution_count": 351
        },
        {
          "output_type": "display_data",
          "data": {
            "image/png": "[encoded data removed]",
            "text/plain": [
              "<Figure size 432x288 with 1 Axes>"
            ]
          },
          "metadata": {
            "tags": [],
            "needs_background": "light"
          }
        }
      ]
    },
    {
      "cell_type": "code",
      "metadata": {
        "colab": {
          "base_uri": "https://localhost:8080/",
          "height": 307
        },
        "id": "526207g7eFzW",
        "outputId": "a4f66199-01f2-4293-b34c-a4255da560d4"
      },
      "source": [
        "sns.regplot(x='Airbags',y='Price',data=train_data)"
      ],
      "execution_count": null,
      "outputs": [
        {
          "output_type": "execute_result",
          "data": {
            "text/plain": [
              "<matplotlib.axes._subplots.AxesSubplot at 0x7f77efafc450>"
            ]
          },
          "metadata": {
            "tags": []
          },
          "execution_count": 352
        },
        {
          "output_type": "display_data",
          "data": {
            "image/png": "[encoded data removed]",
            "text/plain": [
              "<Figure size 432x288 with 1 Axes>"
            ]
          },
          "metadata": {
            "tags": [],
            "needs_background": "light"
          }
        }
      ]
    },
    {
      "cell_type": "code",
      "metadata": {
        "colab": {
          "base_uri": "https://localhost:8080/"
        },
        "id": "dIicm2TJvGX-",
        "outputId": "5c73fdab-7f60-4376-b238-45073cd41959"
      },
      "source": [
        "train_data.columns"
      ],
      "execution_count": null,
      "outputs": [
        {
          "output_type": "execute_result",
          "data": {
            "text/plain": [
              "Index(['Price', 'Levy', 'Manufacturer', 'Model', 'Category',\n",
              "       'Leather interior', 'Fuel type', 'Engine volume', 'Mileage',\n",
              "       'Cylinders', 'Gear box type', 'Drive wheels', 'Doors', 'Wheel', 'Color',\n",
              "       'Airbags', 'Age'],\n",
              "      dtype='object')"
            ]
          },
          "metadata": {
            "tags": []
          },
          "execution_count": 353
        }
      ]
    },
    {
      "cell_type": "code",
      "metadata": {
        "colab": {
          "base_uri": "https://localhost:8080/"
        },
        "id": "aLuEj3Qqekhe",
        "outputId": "fc8c9384-17f9-4ce7-cdf0-cc41843140a2"
      },
      "source": [
        "#Manufacturer----\n",
        "train_data['Manufacturer'].unique()"
      ],
      "execution_count": null,
      "outputs": [
        {
          "output_type": "execute_result",
          "data": {
            "text/plain": [
              "array(['LEXUS', 'CHEVROLET', 'HONDA', 'FORD', 'HYUNDAI', 'TOYOTA',\n",
              "       'MERCEDES-BENZ', 'OPEL', 'PORSCHE', 'BMW', 'JEEP', 'VOLKSWAGEN',\n",
              "       'AUDI', 'RENAULT', 'NISSAN', 'SUBARU', 'DAEWOO', 'KIA',\n",
              "       'MITSUBISHI', 'SSANGYONG', 'MAZDA', 'GMC', 'FIAT', 'INFINITI',\n",
              "       'ALFA ROMEO', 'SUZUKI', 'ACURA', 'LINCOLN', 'VAZ', 'GAZ',\n",
              "       'CITROEN', 'LAND ROVER', 'MINI', 'DODGE', 'CHRYSLER', 'JAGUAR',\n",
              "       'ISUZU', 'SKODA', 'DAIHATSU', 'BUICK', 'TESLA', 'CADILLAC',\n",
              "       'PEUGEOT', 'BENTLEY', 'VOLVO', 'სხვა', 'HAVAL', 'HUMMER', 'SCION',\n",
              "       'UAZ', 'MERCURY', 'ZAZ', 'ROVER', 'SEAT', 'LANCIA', 'MOSKVICH',\n",
              "       'MASERATI', 'FERRARI', 'SAAB', 'LAMBORGHINI', 'ROLLS-ROYCE',\n",
              "       'PONTIAC', 'SATURN', 'ASTON MARTIN', 'GREATWALL'], dtype=object)"
            ]
          },
          "metadata": {
            "tags": []
          },
          "execution_count": 354
        }
      ]
    },
    {
      "cell_type": "code",
      "metadata": {
        "colab": {
          "base_uri": "https://localhost:8080/"
        },
        "id": "IgZEh0xBfcZ_",
        "outputId": "709bdf4c-665c-45d7-df49-a8f703e0b7eb"
      },
      "source": [
        "#So many categories in Manufacturer so we will map into their counts-----\n",
        "count=train_data['Manufacturer'].value_counts().to_dict()\n",
        "count"
      ],
      "execution_count": null,
      "outputs": [
        {
          "output_type": "execute_result",
          "data": {
            "text/plain": [
              "{'ACURA': 15,\n",
              " 'ALFA ROMEO': 4,\n",
              " 'ASTON MARTIN': 1,\n",
              " 'AUDI': 255,\n",
              " 'BENTLEY': 2,\n",
              " 'BMW': 1049,\n",
              " 'BUICK': 16,\n",
              " 'CADILLAC': 14,\n",
              " 'CHEVROLET': 1069,\n",
              " 'CHRYSLER': 26,\n",
              " 'CITROEN': 9,\n",
              " 'DAEWOO': 91,\n",
              " 'DAIHATSU': 13,\n",
              " 'DODGE': 91,\n",
              " 'FERRARI': 2,\n",
              " 'FIAT': 78,\n",
              " 'FORD': 1111,\n",
              " 'GAZ': 12,\n",
              " 'GMC': 15,\n",
              " 'GREATWALL': 1,\n",
              " 'HAVAL': 1,\n",
              " 'HONDA': 977,\n",
              " 'HUMMER': 5,\n",
              " 'HYUNDAI': 3769,\n",
              " 'INFINITI': 30,\n",
              " 'ISUZU': 4,\n",
              " 'JAGUAR': 42,\n",
              " 'JEEP': 138,\n",
              " 'KIA': 421,\n",
              " 'LAMBORGHINI': 1,\n",
              " 'LANCIA': 1,\n",
              " 'LAND ROVER': 49,\n",
              " 'LEXUS': 982,\n",
              " 'LINCOLN': 15,\n",
              " 'MASERATI': 4,\n",
              " 'MAZDA': 183,\n",
              " 'MERCEDES-BENZ': 2076,\n",
              " 'MERCURY': 4,\n",
              " 'MINI': 48,\n",
              " 'MITSUBISHI': 289,\n",
              " 'MOSKVICH': 4,\n",
              " 'NISSAN': 660,\n",
              " 'OPEL': 397,\n",
              " 'PEUGEOT': 17,\n",
              " 'PONTIAC': 1,\n",
              " 'PORSCHE': 54,\n",
              " 'RENAULT': 37,\n",
              " 'ROLLS-ROYCE': 2,\n",
              " 'ROVER': 3,\n",
              " 'SAAB': 2,\n",
              " 'SATURN': 1,\n",
              " 'SCION': 7,\n",
              " 'SEAT': 2,\n",
              " 'SKODA': 20,\n",
              " 'SSANGYONG': 441,\n",
              " 'SUBARU': 275,\n",
              " 'SUZUKI': 76,\n",
              " 'TESLA': 1,\n",
              " 'TOYOTA': 3662,\n",
              " 'UAZ': 12,\n",
              " 'VAZ': 48,\n",
              " 'VOLKSWAGEN': 579,\n",
              " 'VOLVO': 19,\n",
              " 'ZAZ': 2,\n",
              " 'სხვა': 2}"
            ]
          },
          "metadata": {
            "tags": []
          },
          "execution_count": 355
        }
      ]
    },
    {
      "cell_type": "code",
      "metadata": {
        "id": "PyxLAJRGf3hU"
      },
      "source": [
        "train_data['Manufacturer']=train_data['Manufacturer'].map(count)"
      ],
      "execution_count": null,
      "outputs": []
    },
    {
      "cell_type": "code",
      "metadata": {
        "id": "LBGtq3QEgXHS"
      },
      "source": [
        "train_data['Manufacturer']=train_data['Manufacturer'].astype('float')"
      ],
      "execution_count": null,
      "outputs": []
    },
    {
      "cell_type": "code",
      "metadata": {
        "colab": {
          "base_uri": "https://localhost:8080/",
          "height": 350
        },
        "id": "i1VhfBJJk7UZ",
        "outputId": "77bd3f8d-5955-46ac-dc63-1c20ebd053b7"
      },
      "source": [
        "sns.distplot(train_data['Manufacturer'])"
      ],
      "execution_count": null,
      "outputs": [
        {
          "output_type": "stream",
          "text": [
            "/usr/local/lib/python3.7/dist-packages/seaborn/distributions.py:2557: FutureWarning: `distplot` is a deprecated function and will be removed in a future version. Please adapt your code to use either `displot` (a figure-level function with similar flexibility) or `histplot` (an axes-level function for histograms).\n",
            "  warnings.warn(msg, FutureWarning)\n"
          ],
          "name": "stderr"
        },
        {
          "output_type": "execute_result",
          "data": {
            "text/plain": [
              "<matplotlib.axes._subplots.AxesSubplot at 0x7f77efab7890>"
            ]
          },
          "metadata": {
            "tags": []
          },
          "execution_count": 358
        },
        {
          "output_type": "display_data",
          "data": {
            "image/png": "[encoded data removed]",
            "text/plain": [
              "<Figure size 432x288 with 1 Axes>"
            ]
          },
          "metadata": {
            "tags": [],
            "needs_background": "light"
          }
        }
      ]
    },
    {
      "cell_type": "code",
      "metadata": {
        "colab": {
          "base_uri": "https://localhost:8080/",
          "height": 307
        },
        "id": "6JUywvSngy7R",
        "outputId": "e16ba847-83d4-4134-8d2c-f4d4cbec1bf5"
      },
      "source": [
        "sns.regplot(x='Manufacturer',y='Price',data=train_data)"
      ],
      "execution_count": null,
      "outputs": [
        {
          "output_type": "execute_result",
          "data": {
            "text/plain": [
              "<matplotlib.axes._subplots.AxesSubplot at 0x7f77f1d23650>"
            ]
          },
          "metadata": {
            "tags": []
          },
          "execution_count": 359
        },
        {
          "output_type": "display_data",
          "data": {
            "image/png": "[encoded data removed]",
            "text/plain": [
              "<Figure size 432x288 with 1 Axes>"
            ]
          },
          "metadata": {
            "tags": [],
            "needs_background": "light"
          }
        }
      ]
    },
    {
      "cell_type": "code",
      "metadata": {
        "id": "gw2aiJ55hDzD"
      },
      "source": [
        "#model--------\n",
        "count1=train_data['Model'].value_counts().to_dict()"
      ],
      "execution_count": null,
      "outputs": []
    },
    {
      "cell_type": "code",
      "metadata": {
        "id": "bdoxLMTXhf5K"
      },
      "source": [
        "train_data['Model']=train_data['Model'].map(count1)"
      ],
      "execution_count": null,
      "outputs": []
    },
    {
      "cell_type": "code",
      "metadata": {
        "id": "Z5BnjWeNim6a"
      },
      "source": [
        "train_data['Model']=train_data['Model'].astype('float')"
      ],
      "execution_count": null,
      "outputs": []
    },
    {
      "cell_type": "code",
      "metadata": {
        "colab": {
          "base_uri": "https://localhost:8080/",
          "height": 350
        },
        "id": "x6FJgn7LlEaR",
        "outputId": "a5cc4a95-de0e-452d-b417-7f07e69f4af5"
      },
      "source": [
        "sns.distplot(train_data['Model'])"
      ],
      "execution_count": null,
      "outputs": [
        {
          "output_type": "stream",
          "text": [
            "/usr/local/lib/python3.7/dist-packages/seaborn/distributions.py:2557: FutureWarning: `distplot` is a deprecated function and will be removed in a future version. Please adapt your code to use either `displot` (a figure-level function with similar flexibility) or `histplot` (an axes-level function for histograms).\n",
            "  warnings.warn(msg, FutureWarning)\n"
          ],
          "name": "stderr"
        },
        {
          "output_type": "execute_result",
          "data": {
            "text/plain": [
              "<matplotlib.axes._subplots.AxesSubplot at 0x7f77efa9f310>"
            ]
          },
          "metadata": {
            "tags": []
          },
          "execution_count": 363
        },
        {
          "output_type": "display_data",
          "data": {
            "image/png": "[encoded data removed]",
            "text/plain": [
              "<Figure size 432x288 with 1 Axes>"
            ]
          },
          "metadata": {
            "tags": [],
            "needs_background": "light"
          }
        }
      ]
    },
    {
      "cell_type": "code",
      "metadata": {
        "colab": {
          "base_uri": "https://localhost:8080/",
          "height": 307
        },
        "id": "wfN377kIi5rV",
        "outputId": "82d28f64-92ae-4470-fd13-7a5135f237f9"
      },
      "source": [
        "sns.regplot(x='Model',y='Price',data=train_data)"
      ],
      "execution_count": null,
      "outputs": [
        {
          "output_type": "execute_result",
          "data": {
            "text/plain": [
              "<matplotlib.axes._subplots.AxesSubplot at 0x7f77efaecb50>"
            ]
          },
          "metadata": {
            "tags": []
          },
          "execution_count": 364
        },
        {
          "output_type": "display_data",
          "data": {
            "image/png": "[encoded data removed]",
            "text/plain": [
              "<Figure size 432x288 with 1 Axes>"
            ]
          },
          "metadata": {
            "tags": [],
            "needs_background": "light"
          }
        }
      ]
    },
    {
      "cell_type": "code",
      "metadata": {
        "colab": {
          "base_uri": "https://localhost:8080/"
        },
        "id": "dkPiiU5TjJWs",
        "outputId": "0e2b7ead-b31f-4841-d771-6b308591ceb2"
      },
      "source": [
        "#category------\n",
        "count2=train_data['Category'].value_counts().to_dict()\n",
        "count2"
      ],
      "execution_count": null,
      "outputs": [
        {
          "output_type": "execute_result",
          "data": {
            "text/plain": [
              "{'Cabriolet': 36,\n",
              " 'Coupe': 532,\n",
              " 'Goods wagon': 233,\n",
              " 'Hatchback': 2847,\n",
              " 'Jeep': 5473,\n",
              " 'Limousine': 11,\n",
              " 'Microbus': 306,\n",
              " 'Minivan': 647,\n",
              " 'Pickup': 52,\n",
              " 'Sedan': 8736,\n",
              " 'Universal': 364}"
            ]
          },
          "metadata": {
            "tags": []
          },
          "execution_count": 365
        }
      ]
    },
    {
      "cell_type": "code",
      "metadata": {
        "id": "oersqSiRlYnu"
      },
      "source": [
        "train_data['Category']=train_data['Category'].map(count2)"
      ],
      "execution_count": null,
      "outputs": []
    },
    {
      "cell_type": "code",
      "metadata": {
        "id": "bN7_a2ualqTB"
      },
      "source": [
        "train_data['Category']=train_data['Category'].astype('float')"
      ],
      "execution_count": null,
      "outputs": []
    },
    {
      "cell_type": "code",
      "metadata": {
        "colab": {
          "base_uri": "https://localhost:8080/",
          "height": 350
        },
        "id": "BLzErZONlyRF",
        "outputId": "1d19de59-4fcd-4cb7-fcec-94e2958dc191"
      },
      "source": [
        "sns.distplot(train_data['Category'])"
      ],
      "execution_count": null,
      "outputs": [
        {
          "output_type": "stream",
          "text": [
            "/usr/local/lib/python3.7/dist-packages/seaborn/distributions.py:2557: FutureWarning: `distplot` is a deprecated function and will be removed in a future version. Please adapt your code to use either `displot` (a figure-level function with similar flexibility) or `histplot` (an axes-level function for histograms).\n",
            "  warnings.warn(msg, FutureWarning)\n"
          ],
          "name": "stderr"
        },
        {
          "output_type": "execute_result",
          "data": {
            "text/plain": [
              "<matplotlib.axes._subplots.AxesSubplot at 0x7f77efa8ea50>"
            ]
          },
          "metadata": {
            "tags": []
          },
          "execution_count": 368
        },
        {
          "output_type": "display_data",
          "data": {
            "image/png": "[encoded data removed]",
            "text/plain": [
              "<Figure size 432x288 with 1 Axes>"
            ]
          },
          "metadata": {
            "tags": [],
            "needs_background": "light"
          }
        }
      ]
    },
    {
      "cell_type": "code",
      "metadata": {
        "colab": {
          "base_uri": "https://localhost:8080/",
          "height": 307
        },
        "id": "T20HmIrNl2RD",
        "outputId": "b11eee08-ce97-4561-c000-b54fa29c22d2"
      },
      "source": [
        "sns.regplot(x='Category',y='Price',data=train_data)"
      ],
      "execution_count": null,
      "outputs": [
        {
          "output_type": "execute_result",
          "data": {
            "text/plain": [
              "<matplotlib.axes._subplots.AxesSubplot at 0x7f77ef9cae50>"
            ]
          },
          "metadata": {
            "tags": []
          },
          "execution_count": 369
        },
        {
          "output_type": "display_data",
          "data": {
            "image/png": "[encoded data removed]",
            "text/plain": [
              "<Figure size 432x288 with 1 Axes>"
            ]
          },
          "metadata": {
            "tags": [],
            "needs_background": "light"
          }
        }
      ]
    },
    {
      "cell_type": "code",
      "metadata": {
        "colab": {
          "base_uri": "https://localhost:8080/"
        },
        "id": "0tcE3lRzmPVN",
        "outputId": "55f16a1c-fb1e-49d4-ef47-9ce8618ba5ba"
      },
      "source": [
        "#Leather interior------\n",
        "count3=train_data['Leather interior'].value_counts().to_dict()\n",
        "count3"
      ],
      "execution_count": null,
      "outputs": [
        {
          "output_type": "execute_result",
          "data": {
            "text/plain": [
              "{'No': 5283, 'Yes': 13954}"
            ]
          },
          "metadata": {
            "tags": []
          },
          "execution_count": 370
        }
      ]
    },
    {
      "cell_type": "code",
      "metadata": {
        "colab": {
          "base_uri": "https://localhost:8080/",
          "height": 350
        },
        "id": "-6B83lTGoDpO",
        "outputId": "c6c42a73-45c4-4ec7-d016-2aecd3f401ce"
      },
      "source": [
        "sns.countplot(train_data['Leather interior'])              #--------there is only 2 types of categories then we cant frequency incoding\n",
        "                                                          # we will do one hot encoding in this"
      ],
      "execution_count": null,
      "outputs": [
        {
          "output_type": "stream",
          "text": [
            "/usr/local/lib/python3.7/dist-packages/seaborn/_decorators.py:43: FutureWarning: Pass the following variable as a keyword arg: x. From version 0.12, the only valid positional argument will be `data`, and passing other arguments without an explicit keyword will result in an error or misinterpretation.\n",
            "  FutureWarning\n"
          ],
          "name": "stderr"
        },
        {
          "output_type": "execute_result",
          "data": {
            "text/plain": [
              "<matplotlib.axes._subplots.AxesSubplot at 0x7f77ef9eeb90>"
            ]
          },
          "metadata": {
            "tags": []
          },
          "execution_count": 371
        },
        {
          "output_type": "display_data",
          "data": {
            "image/png": "[encoded data removed]",
            "text/plain": [
              "<Figure size 432x288 with 1 Axes>"
            ]
          },
          "metadata": {
            "tags": [],
            "needs_background": "light"
          }
        }
      ]
    },
    {
      "cell_type": "code",
      "metadata": {
        "colab": {
          "base_uri": "https://localhost:8080/",
          "height": 296
        },
        "id": "X4ue9pq0puWE",
        "outputId": "1eec7417-ecab-442f-bef6-16268ca1af6e"
      },
      "source": [
        "sns.boxplot(y='Leather interior',x='Price',data=train_data)"
      ],
      "execution_count": null,
      "outputs": [
        {
          "output_type": "execute_result",
          "data": {
            "text/plain": [
              "<matplotlib.axes._subplots.AxesSubplot at 0x7f77ef994a10>"
            ]
          },
          "metadata": {
            "tags": []
          },
          "execution_count": 372
        },
        {
          "output_type": "display_data",
          "data": {
            "image/png": "[encoded data removed]",
            "text/plain": [
              "<Figure size 432x288 with 1 Axes>"
            ]
          },
          "metadata": {
            "tags": [],
            "needs_background": "light"
          }
        }
      ]
    },
    {
      "cell_type": "code",
      "metadata": {
        "colab": {
          "base_uri": "https://localhost:8080/"
        },
        "id": "PGq7hI9zoLZm",
        "outputId": "0312063e-d9e0-473a-c6b7-a3b80f4054ea"
      },
      "source": [
        "#Fuel type--------\n",
        "count3=train_data['Fuel type'].value_counts().to_dict        #so there is not more categories so we will again do for this one hot encoding\n",
        "count3"
      ],
      "execution_count": null,
      "outputs": [
        {
          "output_type": "execute_result",
          "data": {
            "text/plain": [
              "<bound method Series.to_dict of Petrol            10150\n",
              "Diesel             4036\n",
              "Hybrid             3578\n",
              "LPG                 892\n",
              "CNG                 494\n",
              "Plug-in Hybrid       86\n",
              "Hydrogen              1\n",
              "Name: Fuel type, dtype: int64>"
            ]
          },
          "metadata": {
            "tags": []
          },
          "execution_count": 373
        }
      ]
    },
    {
      "cell_type": "code",
      "metadata": {
        "colab": {
          "base_uri": "https://localhost:8080/",
          "height": 350
        },
        "id": "lV95AJW6phgG",
        "outputId": "eb3b80b6-fed6-4b6d-ed77-e01c0ea82789"
      },
      "source": [
        "sns.countplot(train_data['Fuel type'])"
      ],
      "execution_count": null,
      "outputs": [
        {
          "output_type": "stream",
          "text": [
            "/usr/local/lib/python3.7/dist-packages/seaborn/_decorators.py:43: FutureWarning: Pass the following variable as a keyword arg: x. From version 0.12, the only valid positional argument will be `data`, and passing other arguments without an explicit keyword will result in an error or misinterpretation.\n",
            "  FutureWarning\n"
          ],
          "name": "stderr"
        },
        {
          "output_type": "execute_result",
          "data": {
            "text/plain": [
              "<matplotlib.axes._subplots.AxesSubplot at 0x7f77ef942710>"
            ]
          },
          "metadata": {
            "tags": []
          },
          "execution_count": 374
        },
        {
          "output_type": "display_data",
          "data": {
            "image/png": "[encoded data removed]",
            "text/plain": [
              "<Figure size 432x288 with 1 Axes>"
            ]
          },
          "metadata": {
            "tags": [],
            "needs_background": "light"
          }
        }
      ]
    },
    {
      "cell_type": "code",
      "metadata": {
        "colab": {
          "base_uri": "https://localhost:8080/",
          "height": 307
        },
        "id": "RtEcF6MbqYLs",
        "outputId": "4e89d9b2-b2d3-4b94-eac5-852b09a1a61c"
      },
      "source": [
        "sns.boxplot(x='Fuel type',y='Price',data=train_data)"
      ],
      "execution_count": null,
      "outputs": [
        {
          "output_type": "execute_result",
          "data": {
            "text/plain": [
              "<matplotlib.axes._subplots.AxesSubplot at 0x7f77ef967250>"
            ]
          },
          "metadata": {
            "tags": []
          },
          "execution_count": 375
        },
        {
          "output_type": "display_data",
          "data": {
            "image/png": "[encoded data removed]",
            "text/plain": [
              "<Figure size 432x288 with 1 Axes>"
            ]
          },
          "metadata": {
            "tags": [],
            "needs_background": "light"
          }
        }
      ]
    },
    {
      "cell_type": "code",
      "metadata": {
        "colab": {
          "base_uri": "https://localhost:8080/"
        },
        "id": "BIQOmjDRqisN",
        "outputId": "c24b602b-68de-4c74-cbd8-80be19a21a6f"
      },
      "source": [
        "#Engine volume-----\n",
        "count4=train_data['Engine volume'].value_counts().to_dict()        #frequency incoding\n",
        "count4"
      ],
      "execution_count": null,
      "outputs": [
        {
          "output_type": "execute_result",
          "data": {
            "text/plain": [
              "{'0': 10,\n",
              " '0.1': 4,\n",
              " '0.2': 9,\n",
              " '0.2 Turbo': 1,\n",
              " '0.3': 2,\n",
              " '0.3 Turbo': 1,\n",
              " '0.4': 22,\n",
              " '0.4 Turbo': 1,\n",
              " '0.5': 1,\n",
              " '0.6': 5,\n",
              " '0.6 Turbo': 3,\n",
              " '0.7': 19,\n",
              " '0.7 Turbo': 6,\n",
              " '0.8': 8,\n",
              " '0.8 Turbo': 1,\n",
              " '0.9': 2,\n",
              " '1': 117,\n",
              " '1.0 Turbo': 8,\n",
              " '1.1': 8,\n",
              " '1.1 Turbo': 1,\n",
              " '1.2': 101,\n",
              " '1.2 Turbo': 4,\n",
              " '1.3': 518,\n",
              " '1.3 Turbo': 18,\n",
              " '1.4': 374,\n",
              " '1.4 Turbo': 157,\n",
              " '1.5': 1321,\n",
              " '1.5 Turbo': 72,\n",
              " '1.6': 1462,\n",
              " '1.6 Turbo': 116,\n",
              " '1.7': 157,\n",
              " '1.7 Turbo': 38,\n",
              " '1.8': 1760,\n",
              " '1.8 Turbo': 177,\n",
              " '1.9': 39,\n",
              " '1.9 Turbo': 31,\n",
              " '2': 3916,\n",
              " '2.0 Turbo': 408,\n",
              " '2.1': 7,\n",
              " '2.1 Turbo': 3,\n",
              " '2.2': 227,\n",
              " '2.2 Turbo': 219,\n",
              " '2.3': 116,\n",
              " '2.3 Turbo': 16,\n",
              " '2.4': 987,\n",
              " '2.4 Turbo': 50,\n",
              " '2.5': 2277,\n",
              " '2.5 Turbo': 93,\n",
              " '2.6': 18,\n",
              " '2.7': 133,\n",
              " '2.7 Turbo': 49,\n",
              " '2.8': 58,\n",
              " '2.8 Turbo': 13,\n",
              " '2.9': 9,\n",
              " '2.9 Turbo': 12,\n",
              " '20': 2,\n",
              " '3': 823,\n",
              " '3.0 Turbo': 278,\n",
              " '3.1': 1,\n",
              " '3.2': 148,\n",
              " '3.2 Turbo': 24,\n",
              " '3.3': 204,\n",
              " '3.4': 7,\n",
              " '3.5': 1228,\n",
              " '3.5 Turbo': 42,\n",
              " '3.6': 123,\n",
              " '3.6 Turbo': 5,\n",
              " '3.7': 79,\n",
              " '3.7 Turbo': 2,\n",
              " '3.8': 32,\n",
              " '3.9': 2,\n",
              " '4': 108,\n",
              " '4.0 Turbo': 3,\n",
              " '4.2': 18,\n",
              " '4.2 Turbo': 2,\n",
              " '4.3': 12,\n",
              " '4.4': 81,\n",
              " '4.4 Turbo': 25,\n",
              " '4.5': 12,\n",
              " '4.5 Turbo': 7,\n",
              " '4.6': 370,\n",
              " '4.6 Turbo': 5,\n",
              " '4.7': 98,\n",
              " '4.7 Turbo': 18,\n",
              " '4.8': 34,\n",
              " '4.8 Turbo': 2,\n",
              " '5': 67,\n",
              " '5.0 Turbo': 4,\n",
              " '5.2': 1,\n",
              " '5.3': 8,\n",
              " '5.4': 5,\n",
              " '5.4 Turbo': 1,\n",
              " '5.5': 57,\n",
              " '5.5 Turbo': 11,\n",
              " '5.6': 5,\n",
              " '5.7': 51,\n",
              " '5.7 Turbo': 1,\n",
              " '5.8': 1,\n",
              " '5.9': 3,\n",
              " '6': 5,\n",
              " '6.2': 25,\n",
              " '6.3': 4,\n",
              " '6.3 Turbo': 3,\n",
              " '6.4': 2,\n",
              " '6.7': 1,\n",
              " '6.8': 1,\n",
              " '7.3': 1}"
            ]
          },
          "metadata": {
            "tags": []
          },
          "execution_count": 376
        }
      ]
    },
    {
      "cell_type": "code",
      "metadata": {
        "id": "0smWHw2Fq2NF"
      },
      "source": [
        "train_data['Engine volume']=train_data['Engine volume'].map(count4)"
      ],
      "execution_count": null,
      "outputs": []
    },
    {
      "cell_type": "code",
      "metadata": {
        "id": "jJHPwl8yxNOw"
      },
      "source": [
        "train_data['Engine volume']=train_data['Engine volume'].astype('float')\n"
      ],
      "execution_count": null,
      "outputs": []
    },
    {
      "cell_type": "code",
      "metadata": {
        "colab": {
          "base_uri": "https://localhost:8080/"
        },
        "id": "oSrEIBcDyGtd",
        "outputId": "6629118f-8aec-455f-e8bc-623bce1f5162"
      },
      "source": [
        "train_data['Engine volume'].unique()"
      ],
      "execution_count": null,
      "outputs": [
        {
          "output_type": "execute_result",
          "data": {
            "text/plain": [
              "array([1.228e+03, 8.230e+02, 5.180e+02, 2.277e+03, 3.916e+03, 1.760e+03,\n",
              "       9.870e+02, 1.080e+02, 1.462e+03, 2.040e+02, 4.080e+02, 2.190e+02,\n",
              "       9.800e+01, 1.321e+03, 8.100e+01, 2.780e+02, 1.570e+02, 1.230e+02,\n",
              "       1.160e+02, 7.200e+01, 2.270e+02, 1.600e+01, 3.740e+02, 5.700e+01,\n",
              "       1.300e+01, 1.480e+02, 3.200e+01, 3.700e+02, 1.010e+02, 6.700e+01,\n",
              "       9.000e+00, 1.000e+00, 1.770e+02, 5.000e+01, 4.200e+01, 3.900e+01,\n",
              "       1.330e+02, 3.400e+01, 8.000e+00, 2.200e+01, 5.800e+01, 2.400e+01,\n",
              "       7.000e+00, 1.900e+01, 5.000e+00, 1.800e+01, 7.900e+01, 1.170e+02,\n",
              "       9.300e+01, 3.100e+01, 2.500e+01, 5.100e+01, 2.000e+00, 4.000e+00,\n",
              "       3.800e+01, 3.000e+00, 4.900e+01, 1.200e+01, 1.000e+01, 1.100e+01,\n",
              "       6.000e+00])"
            ]
          },
          "metadata": {
            "tags": []
          },
          "execution_count": 379
        }
      ]
    },
    {
      "cell_type": "code",
      "metadata": {
        "colab": {
          "base_uri": "https://localhost:8080/",
          "height": 350
        },
        "id": "a24B8No_xYHp",
        "outputId": "e4a80003-caa8-4d62-a6f4-7c284570a733"
      },
      "source": [
        "sns.distplot(train_data['Engine volume'])"
      ],
      "execution_count": null,
      "outputs": [
        {
          "output_type": "stream",
          "text": [
            "/usr/local/lib/python3.7/dist-packages/seaborn/distributions.py:2557: FutureWarning: `distplot` is a deprecated function and will be removed in a future version. Please adapt your code to use either `displot` (a figure-level function with similar flexibility) or `histplot` (an axes-level function for histograms).\n",
            "  warnings.warn(msg, FutureWarning)\n"
          ],
          "name": "stderr"
        },
        {
          "output_type": "execute_result",
          "data": {
            "text/plain": [
              "<matplotlib.axes._subplots.AxesSubplot at 0x7f77ef99ced0>"
            ]
          },
          "metadata": {
            "tags": []
          },
          "execution_count": 380
        },
        {
          "output_type": "display_data",
          "data": {
            "image/png": "[encoded data removed]",
            "text/plain": [
              "<Figure size 432x288 with 1 Axes>"
            ]
          },
          "metadata": {
            "tags": [],
            "needs_background": "light"
          }
        }
      ]
    },
    {
      "cell_type": "code",
      "metadata": {
        "colab": {
          "base_uri": "https://localhost:8080/",
          "height": 307
        },
        "id": "UtLP797AxoCU",
        "outputId": "039fb057-455e-4973-a657-537a41461a6a"
      },
      "source": [
        "sns.regplot(x='Engine volume',y='Price',data=train_data)"
      ],
      "execution_count": null,
      "outputs": [
        {
          "output_type": "execute_result",
          "data": {
            "text/plain": [
              "<matplotlib.axes._subplots.AxesSubplot at 0x7f77ef892090>"
            ]
          },
          "metadata": {
            "tags": []
          },
          "execution_count": 381
        },
        {
          "output_type": "display_data",
          "data": {
            "image/png": "[encoded data removed]",
            "text/plain": [
              "<Figure size 432x288 with 1 Axes>"
            ]
          },
          "metadata": {
            "tags": [],
            "needs_background": "light"
          }
        }
      ]
    },
    {
      "cell_type": "code",
      "metadata": {
        "id": "m4qvFnHGtEFv"
      },
      "source": [
        "#milage---\n",
        "count5=train_data['Mileage'].value_counts().to_dict()\n"
      ],
      "execution_count": null,
      "outputs": []
    },
    {
      "cell_type": "code",
      "metadata": {
        "id": "KKC33wY1wGUf"
      },
      "source": [
        "train_data['Mileage']=train_data['Mileage'].map(count5)"
      ],
      "execution_count": null,
      "outputs": []
    },
    {
      "cell_type": "code",
      "metadata": {
        "id": "uTY9Gq6ixB8r"
      },
      "source": [
        "train_data['Mileage']=train_data['Mileage'].astype('float')"
      ],
      "execution_count": null,
      "outputs": []
    },
    {
      "cell_type": "code",
      "metadata": {
        "colab": {
          "base_uri": "https://localhost:8080/",
          "height": 350
        },
        "id": "KR4DItlLypYT",
        "outputId": "deab553c-a4e8-4821-ce2a-91b7b0088462"
      },
      "source": [
        "sns.distplot(train_data['Mileage'])"
      ],
      "execution_count": null,
      "outputs": [
        {
          "output_type": "stream",
          "text": [
            "/usr/local/lib/python3.7/dist-packages/seaborn/distributions.py:2557: FutureWarning: `distplot` is a deprecated function and will be removed in a future version. Please adapt your code to use either `displot` (a figure-level function with similar flexibility) or `histplot` (an axes-level function for histograms).\n",
            "  warnings.warn(msg, FutureWarning)\n"
          ],
          "name": "stderr"
        },
        {
          "output_type": "execute_result",
          "data": {
            "text/plain": [
              "<matplotlib.axes._subplots.AxesSubplot at 0x7f77ef83d850>"
            ]
          },
          "metadata": {
            "tags": []
          },
          "execution_count": 385
        },
        {
          "output_type": "display_data",
          "data": {
            "image/png": "[encoded data removed]",
            "text/plain": [
              "<Figure size 432x288 with 1 Axes>"
            ]
          },
          "metadata": {
            "tags": [],
            "needs_background": "light"
          }
        }
      ]
    },
    {
      "cell_type": "code",
      "metadata": {
        "colab": {
          "base_uri": "https://localhost:8080/",
          "height": 307
        },
        "id": "bGyz1-lTyyjC",
        "outputId": "f5504216-8fbb-41f1-f2af-bc6be622fbc2"
      },
      "source": [
        "sns.regplot(x='Mileage',y='Price',data=train_data)"
      ],
      "execution_count": null,
      "outputs": [
        {
          "output_type": "execute_result",
          "data": {
            "text/plain": [
              "<matplotlib.axes._subplots.AxesSubplot at 0x7f77ef813b10>"
            ]
          },
          "metadata": {
            "tags": []
          },
          "execution_count": 386
        },
        {
          "output_type": "display_data",
          "data": {
            "image/png": "[encoded data removed]",
            "text/plain": [
              "<Figure size 432x288 with 1 Axes>"
            ]
          },
          "metadata": {
            "tags": [],
            "needs_background": "light"
          }
        }
      ]
    },
    {
      "cell_type": "code",
      "metadata": {
        "id": "ondiG_ERzkYP"
      },
      "source": [
        "#Gear box type----------\n",
        "count6=train_data['Gear box type'].value_counts().to_dict()"
      ],
      "execution_count": null,
      "outputs": []
    },
    {
      "cell_type": "code",
      "metadata": {
        "colab": {
          "base_uri": "https://localhost:8080/",
          "height": 350
        },
        "id": "WxSA9d_y0cOU",
        "outputId": "d842d6e9-6502-440a-9411-2615d426989c"
      },
      "source": [
        "sns.countplot(train_data['Gear box type'])            #---we will do one hot encoding in it\n"
      ],
      "execution_count": null,
      "outputs": [
        {
          "output_type": "stream",
          "text": [
            "/usr/local/lib/python3.7/dist-packages/seaborn/_decorators.py:43: FutureWarning: Pass the following variable as a keyword arg: x. From version 0.12, the only valid positional argument will be `data`, and passing other arguments without an explicit keyword will result in an error or misinterpretation.\n",
            "  FutureWarning\n"
          ],
          "name": "stderr"
        },
        {
          "output_type": "execute_result",
          "data": {
            "text/plain": [
              "<matplotlib.axes._subplots.AxesSubplot at 0x7f77ef7bd5d0>"
            ]
          },
          "metadata": {
            "tags": []
          },
          "execution_count": 388
        },
        {
          "output_type": "display_data",
          "data": {
            "image/png": "[encoded data removed]",
            "text/plain": [
              "<Figure size 432x288 with 1 Axes>"
            ]
          },
          "metadata": {
            "tags": [],
            "needs_background": "light"
          }
        }
      ]
    },
    {
      "cell_type": "code",
      "metadata": {
        "colab": {
          "base_uri": "https://localhost:8080/"
        },
        "id": "12QU3dmM0iTQ",
        "outputId": "581b9a63-071f-4f8b-fc1e-bf7efcde5bf0"
      },
      "source": [
        "count7=train_data['Drive wheels'].value_counts().to_dict()\n",
        "count7"
      ],
      "execution_count": null,
      "outputs": [
        {
          "output_type": "execute_result",
          "data": {
            "text/plain": [
              "{'4x4': 4058, 'Front': 12874, 'Rear': 2305}"
            ]
          },
          "metadata": {
            "tags": []
          },
          "execution_count": 389
        }
      ]
    },
    {
      "cell_type": "code",
      "metadata": {
        "colab": {
          "base_uri": "https://localhost:8080/",
          "height": 350
        },
        "id": "ZNKeTrrUEtSA",
        "outputId": "13355062-a8cf-49e5-cb77-85942907d2e6"
      },
      "source": [
        "sns.countplot(train_data['Drive wheels'])    #--one hot encoding"
      ],
      "execution_count": null,
      "outputs": [
        {
          "output_type": "stream",
          "text": [
            "/usr/local/lib/python3.7/dist-packages/seaborn/_decorators.py:43: FutureWarning: Pass the following variable as a keyword arg: x. From version 0.12, the only valid positional argument will be `data`, and passing other arguments without an explicit keyword will result in an error or misinterpretation.\n",
            "  FutureWarning\n"
          ],
          "name": "stderr"
        },
        {
          "output_type": "execute_result",
          "data": {
            "text/plain": [
              "<matplotlib.axes._subplots.AxesSubplot at 0x7f77ef7e3490>"
            ]
          },
          "metadata": {
            "tags": []
          },
          "execution_count": 390
        },
        {
          "output_type": "display_data",
          "data": {
            "image/png": "[encoded data removed]",
            "text/plain": [
              "<Figure size 432x288 with 1 Axes>"
            ]
          },
          "metadata": {
            "tags": [],
            "needs_background": "light"
          }
        }
      ]
    },
    {
      "cell_type": "code",
      "metadata": {
        "colab": {
          "base_uri": "https://localhost:8080/"
        },
        "id": "X9_7uf8aE5jx",
        "outputId": "5b6bb5e0-c49c-4f5e-af76-b90c0a40de3a"
      },
      "source": [
        "#Doors---\n",
        "count7=train_data['Doors'].value_counts().to_dict()\n",
        "count7"
      ],
      "execution_count": null,
      "outputs": [
        {
          "output_type": "execute_result",
          "data": {
            "text/plain": [
              "{'02-Mar': 777, '04-May': 18332, '>5': 128}"
            ]
          },
          "metadata": {
            "tags": []
          },
          "execution_count": 391
        }
      ]
    },
    {
      "cell_type": "code",
      "metadata": {
        "colab": {
          "base_uri": "https://localhost:8080/",
          "height": 350
        },
        "id": "1JHFTVjQFVO8",
        "outputId": "07ee9e1a-729c-42bd-86f4-3f438eea1fc2"
      },
      "source": [
        "sns.countplot(train_data['Doors'])       "
      ],
      "execution_count": null,
      "outputs": [
        {
          "output_type": "stream",
          "text": [
            "/usr/local/lib/python3.7/dist-packages/seaborn/_decorators.py:43: FutureWarning: Pass the following variable as a keyword arg: x. From version 0.12, the only valid positional argument will be `data`, and passing other arguments without an explicit keyword will result in an error or misinterpretation.\n",
            "  FutureWarning\n"
          ],
          "name": "stderr"
        },
        {
          "output_type": "execute_result",
          "data": {
            "text/plain": [
              "<matplotlib.axes._subplots.AxesSubplot at 0x7f77ef7bd550>"
            ]
          },
          "metadata": {
            "tags": []
          },
          "execution_count": 392
        },
        {
          "output_type": "display_data",
          "data": {
            "image/png": "[encoded data removed]",
            "text/plain": [
              "<Figure size 432x288 with 1 Axes>"
            ]
          },
          "metadata": {
            "tags": [],
            "needs_background": "light"
          }
        }
      ]
    },
    {
      "cell_type": "code",
      "metadata": {
        "colab": {
          "base_uri": "https://localhost:8080/"
        },
        "id": "Zo0KRxgTFfX3",
        "outputId": "07bef4a4-97e4-490f-dde5-3673be225b7f"
      },
      "source": [
        "#wheel--------\n",
        "count8=train_data['Wheel'].value_counts().to_dict()            #one hot encoding\n",
        "count8"
      ],
      "execution_count": null,
      "outputs": [
        {
          "output_type": "execute_result",
          "data": {
            "text/plain": [
              "{'Left wheel': 17753, 'Right-hand drive': 1484}"
            ]
          },
          "metadata": {
            "tags": []
          },
          "execution_count": 393
        }
      ]
    },
    {
      "cell_type": "code",
      "metadata": {
        "colab": {
          "base_uri": "https://localhost:8080/"
        },
        "id": "OeBaNjU2Ft4G",
        "outputId": "b37ebb12-c10c-4c11-bf8e-69a8adff7379"
      },
      "source": [
        "#Color----\n",
        "count9=train_data['Color'].value_counts().to_dict()\n",
        "count9"
      ],
      "execution_count": null,
      "outputs": [
        {
          "output_type": "execute_result",
          "data": {
            "text/plain": [
              "{'Beige': 134,\n",
              " 'Black': 5033,\n",
              " 'Blue': 1396,\n",
              " 'Brown': 187,\n",
              " 'Carnelian red': 179,\n",
              " 'Golden': 145,\n",
              " 'Green': 322,\n",
              " 'Grey': 2375,\n",
              " 'Orange': 253,\n",
              " 'Pink': 26,\n",
              " 'Purple': 39,\n",
              " 'Red': 639,\n",
              " 'Silver': 3792,\n",
              " 'Sky blue': 122,\n",
              " 'White': 4489,\n",
              " 'Yellow': 106}"
            ]
          },
          "metadata": {
            "tags": []
          },
          "execution_count": 394
        }
      ]
    },
    {
      "cell_type": "code",
      "metadata": {
        "id": "bUUgOsSYGH8P"
      },
      "source": [
        "train_data['Color']=train_data['Color'].map(count9)"
      ],
      "execution_count": null,
      "outputs": []
    },
    {
      "cell_type": "code",
      "metadata": {
        "id": "UHf8vJU2GWzp"
      },
      "source": [
        "train_data['Color']=train_data['Color'].astype('float')"
      ],
      "execution_count": null,
      "outputs": []
    },
    {
      "cell_type": "code",
      "metadata": {
        "colab": {
          "base_uri": "https://localhost:8080/",
          "height": 307
        },
        "id": "OQxPD_WYGbuA",
        "outputId": "a90db02e-8618-4ba1-ab4e-8085e60389f8"
      },
      "source": [
        "sns.regplot(x=train_data['Color'],y=train_data['Price'])"
      ],
      "execution_count": null,
      "outputs": [
        {
          "output_type": "execute_result",
          "data": {
            "text/plain": [
              "<matplotlib.axes._subplots.AxesSubplot at 0x7f77ef79ab50>"
            ]
          },
          "metadata": {
            "tags": []
          },
          "execution_count": 397
        },
        {
          "output_type": "display_data",
          "data": {
            "image/png": "[encoded data removed]",
            "text/plain": [
              "<Figure size 432x288 with 1 Axes>"
            ]
          },
          "metadata": {
            "tags": [],
            "needs_background": "light"
          }
        }
      ]
    },
    {
      "cell_type": "code",
      "metadata": {
        "colab": {
          "base_uri": "https://localhost:8080/",
          "height": 350
        },
        "id": "V4obUlUEGjda",
        "outputId": "fd9c1967-7337-4cd4-ffff-cf6a75727b6d"
      },
      "source": [
        "sns.distplot(train_data['Color'])"
      ],
      "execution_count": null,
      "outputs": [
        {
          "output_type": "stream",
          "text": [
            "/usr/local/lib/python3.7/dist-packages/seaborn/distributions.py:2557: FutureWarning: `distplot` is a deprecated function and will be removed in a future version. Please adapt your code to use either `displot` (a figure-level function with similar flexibility) or `histplot` (an axes-level function for histograms).\n",
            "  warnings.warn(msg, FutureWarning)\n"
          ],
          "name": "stderr"
        },
        {
          "output_type": "execute_result",
          "data": {
            "text/plain": [
              "<matplotlib.axes._subplots.AxesSubplot at 0x7f77ef748a10>"
            ]
          },
          "metadata": {
            "tags": []
          },
          "execution_count": 398
        },
        {
          "output_type": "display_data",
          "data": {
            "image/png": "[encoded data removed]",
            "text/plain": [
              "<Figure size 432x288 with 1 Axes>"
            ]
          },
          "metadata": {
            "tags": [],
            "needs_background": "light"
          }
        }
      ]
    },
    {
      "cell_type": "code",
      "metadata": {
        "colab": {
          "base_uri": "https://localhost:8080/",
          "height": 304
        },
        "id": "8P2MxiEiOrxL",
        "outputId": "5994443d-3fde-42eb-9056-dffb9ffb065c"
      },
      "source": [
        "train_data.head()"
      ],
      "execution_count": null,
      "outputs": [
        {
          "output_type": "execute_result",
          "data": {
            "text/html": [
              "<div>\n",
              "<style scoped>\n",
              "    .dataframe tbody tr th:only-of-type {\n",
              "        vertical-align: middle;\n",
              "    }\n",
              "\n",
              "    .dataframe tbody tr th {\n",
              "        vertical-align: top;\n",
              "    }\n",
              "\n",
              "    .dataframe thead th {\n",
              "        text-align: right;\n",
              "    }\n",
              "</style>\n",
              "<table border=\"1\" class=\"dataframe\">\n",
              "  <thead>\n",
              "    <tr style=\"text-align: right;\">\n",
              "      <th></th>\n",
              "      <th>Price</th>\n",
              "      <th>Levy</th>\n",
              "      <th>Manufacturer</th>\n",
              "      <th>Model</th>\n",
              "      <th>Category</th>\n",
              "      <th>Leather interior</th>\n",
              "      <th>Fuel type</th>\n",
              "      <th>Engine volume</th>\n",
              "      <th>Mileage</th>\n",
              "      <th>Cylinders</th>\n",
              "      <th>Gear box type</th>\n",
              "      <th>Drive wheels</th>\n",
              "      <th>Doors</th>\n",
              "      <th>Wheel</th>\n",
              "      <th>Color</th>\n",
              "      <th>Airbags</th>\n",
              "      <th>Age</th>\n",
              "    </tr>\n",
              "  </thead>\n",
              "  <tbody>\n",
              "    <tr>\n",
              "      <th>0</th>\n",
              "      <td>13328</td>\n",
              "      <td>7.243513</td>\n",
              "      <td>982.0</td>\n",
              "      <td>173.0</td>\n",
              "      <td>5473.0</td>\n",
              "      <td>Yes</td>\n",
              "      <td>Hybrid</td>\n",
              "      <td>1228.0</td>\n",
              "      <td>19.0</td>\n",
              "      <td>3462.0</td>\n",
              "      <td>Automatic</td>\n",
              "      <td>4x4</td>\n",
              "      <td>04-May</td>\n",
              "      <td>Left wheel</td>\n",
              "      <td>3792.0</td>\n",
              "      <td>5654.0</td>\n",
              "      <td>11</td>\n",
              "    </tr>\n",
              "    <tr>\n",
              "      <th>1</th>\n",
              "      <td>16621</td>\n",
              "      <td>6.925595</td>\n",
              "      <td>1069.0</td>\n",
              "      <td>23.0</td>\n",
              "      <td>5473.0</td>\n",
              "      <td>No</td>\n",
              "      <td>Petrol</td>\n",
              "      <td>823.0</td>\n",
              "      <td>26.0</td>\n",
              "      <td>3462.0</td>\n",
              "      <td>Tiptronic</td>\n",
              "      <td>4x4</td>\n",
              "      <td>04-May</td>\n",
              "      <td>Left wheel</td>\n",
              "      <td>5033.0</td>\n",
              "      <td>1608.0</td>\n",
              "      <td>10</td>\n",
              "    </tr>\n",
              "    <tr>\n",
              "      <th>2</th>\n",
              "      <td>8467</td>\n",
              "      <td>6.660575</td>\n",
              "      <td>977.0</td>\n",
              "      <td>446.0</td>\n",
              "      <td>2847.0</td>\n",
              "      <td>No</td>\n",
              "      <td>Petrol</td>\n",
              "      <td>518.0</td>\n",
              "      <td>183.0</td>\n",
              "      <td>14367.0</td>\n",
              "      <td>Variator</td>\n",
              "      <td>Front</td>\n",
              "      <td>04-May</td>\n",
              "      <td>Right-hand drive</td>\n",
              "      <td>5033.0</td>\n",
              "      <td>1066.0</td>\n",
              "      <td>15</td>\n",
              "    </tr>\n",
              "    <tr>\n",
              "      <th>3</th>\n",
              "      <td>3607</td>\n",
              "      <td>6.759255</td>\n",
              "      <td>1111.0</td>\n",
              "      <td>149.0</td>\n",
              "      <td>5473.0</td>\n",
              "      <td>Yes</td>\n",
              "      <td>Hybrid</td>\n",
              "      <td>2277.0</td>\n",
              "      <td>7.0</td>\n",
              "      <td>14367.0</td>\n",
              "      <td>Automatic</td>\n",
              "      <td>4x4</td>\n",
              "      <td>04-May</td>\n",
              "      <td>Left wheel</td>\n",
              "      <td>4489.0</td>\n",
              "      <td>2405.0</td>\n",
              "      <td>10</td>\n",
              "    </tr>\n",
              "    <tr>\n",
              "      <th>4</th>\n",
              "      <td>11726</td>\n",
              "      <td>6.100319</td>\n",
              "      <td>977.0</td>\n",
              "      <td>446.0</td>\n",
              "      <td>2847.0</td>\n",
              "      <td>Yes</td>\n",
              "      <td>Petrol</td>\n",
              "      <td>518.0</td>\n",
              "      <td>1.0</td>\n",
              "      <td>14367.0</td>\n",
              "      <td>Automatic</td>\n",
              "      <td>Front</td>\n",
              "      <td>04-May</td>\n",
              "      <td>Left wheel</td>\n",
              "      <td>3792.0</td>\n",
              "      <td>5823.0</td>\n",
              "      <td>7</td>\n",
              "    </tr>\n",
              "  </tbody>\n",
              "</table>\n",
              "</div>"
            ],
            "text/plain": [
              "   Price      Levy  Manufacturer  Model  ...             Wheel   Color Airbags  Age\n",
              "0  13328  7.243513         982.0  173.0  ...        Left wheel  3792.0  5654.0   11\n",
              "1  16621  6.925595        1069.0   23.0  ...        Left wheel  5033.0  1608.0   10\n",
              "2   8467  6.660575         977.0  446.0  ...  Right-hand drive  5033.0  1066.0   15\n",
              "3   3607  6.759255        1111.0  149.0  ...        Left wheel  4489.0  2405.0   10\n",
              "4  11726  6.100319         977.0  446.0  ...        Left wheel  3792.0  5823.0    7\n",
              "\n",
              "[5 rows x 17 columns]"
            ]
          },
          "metadata": {
            "tags": []
          },
          "execution_count": 401
        }
      ]
    },
    {
      "cell_type": "code",
      "metadata": {
        "id": "aGPIOMrSODtF"
      },
      "source": [
        "train_data=pd.get_dummies(train_data,columns=['Leather interior','Fuel type','Gear box type','Drive wheels','Doors','Wheel'],drop_first=True)"
      ],
      "execution_count": null,
      "outputs": []
    },
    {
      "cell_type": "code",
      "metadata": {
        "colab": {
          "base_uri": "https://localhost:8080/",
          "height": 470
        },
        "id": "L1zut86eQLSi",
        "outputId": "b7895e3e-7f18-4c7c-dc9c-1f1c94da2736"
      },
      "source": [
        "train_data"
      ],
      "execution_count": null,
      "outputs": [
        {
          "output_type": "execute_result",
          "data": {
            "text/html": [
              "<div>\n",
              "<style scoped>\n",
              "    .dataframe tbody tr th:only-of-type {\n",
              "        vertical-align: middle;\n",
              "    }\n",
              "\n",
              "    .dataframe tbody tr th {\n",
              "        vertical-align: top;\n",
              "    }\n",
              "\n",
              "    .dataframe thead th {\n",
              "        text-align: right;\n",
              "    }\n",
              "</style>\n",
              "<table border=\"1\" class=\"dataframe\">\n",
              "  <thead>\n",
              "    <tr style=\"text-align: right;\">\n",
              "      <th></th>\n",
              "      <th>Price</th>\n",
              "      <th>Levy</th>\n",
              "      <th>Manufacturer</th>\n",
              "      <th>Model</th>\n",
              "      <th>Category</th>\n",
              "      <th>Engine volume</th>\n",
              "      <th>Mileage</th>\n",
              "      <th>Cylinders</th>\n",
              "      <th>Color</th>\n",
              "      <th>Airbags</th>\n",
              "      <th>Age</th>\n",
              "      <th>Leather interior_Yes</th>\n",
              "      <th>Fuel type_Diesel</th>\n",
              "      <th>Fuel type_Hybrid</th>\n",
              "      <th>Fuel type_Hydrogen</th>\n",
              "      <th>Fuel type_LPG</th>\n",
              "      <th>Fuel type_Petrol</th>\n",
              "      <th>Fuel type_Plug-in Hybrid</th>\n",
              "      <th>Gear box type_Manual</th>\n",
              "      <th>Gear box type_Tiptronic</th>\n",
              "      <th>Gear box type_Variator</th>\n",
              "      <th>Drive wheels_Front</th>\n",
              "      <th>Drive wheels_Rear</th>\n",
              "      <th>Doors_04-May</th>\n",
              "      <th>Doors_&gt;5</th>\n",
              "      <th>Wheel_Right-hand drive</th>\n",
              "    </tr>\n",
              "  </thead>\n",
              "  <tbody>\n",
              "    <tr>\n",
              "      <th>0</th>\n",
              "      <td>13328</td>\n",
              "      <td>7.243513</td>\n",
              "      <td>982.0</td>\n",
              "      <td>173.0</td>\n",
              "      <td>5473.0</td>\n",
              "      <td>1228.0</td>\n",
              "      <td>19.0</td>\n",
              "      <td>3462.0</td>\n",
              "      <td>3792.0</td>\n",
              "      <td>5654.0</td>\n",
              "      <td>11</td>\n",
              "      <td>1</td>\n",
              "      <td>0</td>\n",
              "      <td>1</td>\n",
              "      <td>0</td>\n",
              "      <td>0</td>\n",
              "      <td>0</td>\n",
              "      <td>0</td>\n",
              "      <td>0</td>\n",
              "      <td>0</td>\n",
              "      <td>0</td>\n",
              "      <td>0</td>\n",
              "      <td>0</td>\n",
              "      <td>1</td>\n",
              "      <td>0</td>\n",
              "      <td>0</td>\n",
              "    </tr>\n",
              "    <tr>\n",
              "      <th>1</th>\n",
              "      <td>16621</td>\n",
              "      <td>6.925595</td>\n",
              "      <td>1069.0</td>\n",
              "      <td>23.0</td>\n",
              "      <td>5473.0</td>\n",
              "      <td>823.0</td>\n",
              "      <td>26.0</td>\n",
              "      <td>3462.0</td>\n",
              "      <td>5033.0</td>\n",
              "      <td>1608.0</td>\n",
              "      <td>10</td>\n",
              "      <td>0</td>\n",
              "      <td>0</td>\n",
              "      <td>0</td>\n",
              "      <td>0</td>\n",
              "      <td>0</td>\n",
              "      <td>1</td>\n",
              "      <td>0</td>\n",
              "      <td>0</td>\n",
              "      <td>1</td>\n",
              "      <td>0</td>\n",
              "      <td>0</td>\n",
              "      <td>0</td>\n",
              "      <td>1</td>\n",
              "      <td>0</td>\n",
              "      <td>0</td>\n",
              "    </tr>\n",
              "    <tr>\n",
              "      <th>2</th>\n",
              "      <td>8467</td>\n",
              "      <td>6.660575</td>\n",
              "      <td>977.0</td>\n",
              "      <td>446.0</td>\n",
              "      <td>2847.0</td>\n",
              "      <td>518.0</td>\n",
              "      <td>183.0</td>\n",
              "      <td>14367.0</td>\n",
              "      <td>5033.0</td>\n",
              "      <td>1066.0</td>\n",
              "      <td>15</td>\n",
              "      <td>0</td>\n",
              "      <td>0</td>\n",
              "      <td>0</td>\n",
              "      <td>0</td>\n",
              "      <td>0</td>\n",
              "      <td>1</td>\n",
              "      <td>0</td>\n",
              "      <td>0</td>\n",
              "      <td>0</td>\n",
              "      <td>1</td>\n",
              "      <td>1</td>\n",
              "      <td>0</td>\n",
              "      <td>1</td>\n",
              "      <td>0</td>\n",
              "      <td>1</td>\n",
              "    </tr>\n",
              "    <tr>\n",
              "      <th>3</th>\n",
              "      <td>3607</td>\n",
              "      <td>6.759255</td>\n",
              "      <td>1111.0</td>\n",
              "      <td>149.0</td>\n",
              "      <td>5473.0</td>\n",
              "      <td>2277.0</td>\n",
              "      <td>7.0</td>\n",
              "      <td>14367.0</td>\n",
              "      <td>4489.0</td>\n",
              "      <td>2405.0</td>\n",
              "      <td>10</td>\n",
              "      <td>1</td>\n",
              "      <td>0</td>\n",
              "      <td>1</td>\n",
              "      <td>0</td>\n",
              "      <td>0</td>\n",
              "      <td>0</td>\n",
              "      <td>0</td>\n",
              "      <td>0</td>\n",
              "      <td>0</td>\n",
              "      <td>0</td>\n",
              "      <td>0</td>\n",
              "      <td>0</td>\n",
              "      <td>1</td>\n",
              "      <td>0</td>\n",
              "      <td>0</td>\n",
              "    </tr>\n",
              "    <tr>\n",
              "      <th>4</th>\n",
              "      <td>11726</td>\n",
              "      <td>6.100319</td>\n",
              "      <td>977.0</td>\n",
              "      <td>446.0</td>\n",
              "      <td>2847.0</td>\n",
              "      <td>518.0</td>\n",
              "      <td>1.0</td>\n",
              "      <td>14367.0</td>\n",
              "      <td>3792.0</td>\n",
              "      <td>5823.0</td>\n",
              "      <td>7</td>\n",
              "      <td>1</td>\n",
              "      <td>0</td>\n",
              "      <td>0</td>\n",
              "      <td>0</td>\n",
              "      <td>0</td>\n",
              "      <td>1</td>\n",
              "      <td>0</td>\n",
              "      <td>0</td>\n",
              "      <td>0</td>\n",
              "      <td>0</td>\n",
              "      <td>1</td>\n",
              "      <td>0</td>\n",
              "      <td>1</td>\n",
              "      <td>0</td>\n",
              "      <td>0</td>\n",
              "    </tr>\n",
              "    <tr>\n",
              "      <th>...</th>\n",
              "      <td>...</td>\n",
              "      <td>...</td>\n",
              "      <td>...</td>\n",
              "      <td>...</td>\n",
              "      <td>...</td>\n",
              "      <td>...</td>\n",
              "      <td>...</td>\n",
              "      <td>...</td>\n",
              "      <td>...</td>\n",
              "      <td>...</td>\n",
              "      <td>...</td>\n",
              "      <td>...</td>\n",
              "      <td>...</td>\n",
              "      <td>...</td>\n",
              "      <td>...</td>\n",
              "      <td>...</td>\n",
              "      <td>...</td>\n",
              "      <td>...</td>\n",
              "      <td>...</td>\n",
              "      <td>...</td>\n",
              "      <td>...</td>\n",
              "      <td>...</td>\n",
              "      <td>...</td>\n",
              "      <td>...</td>\n",
              "      <td>...</td>\n",
              "      <td>...</td>\n",
              "    </tr>\n",
              "    <tr>\n",
              "      <th>19232</th>\n",
              "      <td>8467</td>\n",
              "      <td>6.660575</td>\n",
              "      <td>2076.0</td>\n",
              "      <td>8.0</td>\n",
              "      <td>532.0</td>\n",
              "      <td>408.0</td>\n",
              "      <td>67.0</td>\n",
              "      <td>14367.0</td>\n",
              "      <td>3792.0</td>\n",
              "      <td>104.0</td>\n",
              "      <td>22</td>\n",
              "      <td>1</td>\n",
              "      <td>0</td>\n",
              "      <td>0</td>\n",
              "      <td>0</td>\n",
              "      <td>0</td>\n",
              "      <td>0</td>\n",
              "      <td>0</td>\n",
              "      <td>1</td>\n",
              "      <td>0</td>\n",
              "      <td>0</td>\n",
              "      <td>0</td>\n",
              "      <td>1</td>\n",
              "      <td>0</td>\n",
              "      <td>0</td>\n",
              "      <td>0</td>\n",
              "    </tr>\n",
              "    <tr>\n",
              "      <th>19233</th>\n",
              "      <td>15681</td>\n",
              "      <td>6.722630</td>\n",
              "      <td>3769.0</td>\n",
              "      <td>1079.0</td>\n",
              "      <td>8736.0</td>\n",
              "      <td>987.0</td>\n",
              "      <td>5.0</td>\n",
              "      <td>14367.0</td>\n",
              "      <td>639.0</td>\n",
              "      <td>1608.0</td>\n",
              "      <td>10</td>\n",
              "      <td>1</td>\n",
              "      <td>0</td>\n",
              "      <td>0</td>\n",
              "      <td>0</td>\n",
              "      <td>0</td>\n",
              "      <td>1</td>\n",
              "      <td>0</td>\n",
              "      <td>0</td>\n",
              "      <td>1</td>\n",
              "      <td>0</td>\n",
              "      <td>1</td>\n",
              "      <td>0</td>\n",
              "      <td>1</td>\n",
              "      <td>0</td>\n",
              "      <td>0</td>\n",
              "    </tr>\n",
              "    <tr>\n",
              "      <th>19234</th>\n",
              "      <td>26108</td>\n",
              "      <td>6.728629</td>\n",
              "      <td>3769.0</td>\n",
              "      <td>429.0</td>\n",
              "      <td>5473.0</td>\n",
              "      <td>3916.0</td>\n",
              "      <td>3.0</td>\n",
              "      <td>14367.0</td>\n",
              "      <td>2375.0</td>\n",
              "      <td>5823.0</td>\n",
              "      <td>11</td>\n",
              "      <td>1</td>\n",
              "      <td>1</td>\n",
              "      <td>0</td>\n",
              "      <td>0</td>\n",
              "      <td>0</td>\n",
              "      <td>0</td>\n",
              "      <td>0</td>\n",
              "      <td>0</td>\n",
              "      <td>0</td>\n",
              "      <td>0</td>\n",
              "      <td>1</td>\n",
              "      <td>0</td>\n",
              "      <td>1</td>\n",
              "      <td>0</td>\n",
              "      <td>0</td>\n",
              "    </tr>\n",
              "    <tr>\n",
              "      <th>19235</th>\n",
              "      <td>5331</td>\n",
              "      <td>7.160846</td>\n",
              "      <td>1069.0</td>\n",
              "      <td>140.0</td>\n",
              "      <td>5473.0</td>\n",
              "      <td>3916.0</td>\n",
              "      <td>2.0</td>\n",
              "      <td>14367.0</td>\n",
              "      <td>5033.0</td>\n",
              "      <td>5823.0</td>\n",
              "      <td>14</td>\n",
              "      <td>1</td>\n",
              "      <td>1</td>\n",
              "      <td>0</td>\n",
              "      <td>0</td>\n",
              "      <td>0</td>\n",
              "      <td>0</td>\n",
              "      <td>0</td>\n",
              "      <td>0</td>\n",
              "      <td>0</td>\n",
              "      <td>0</td>\n",
              "      <td>1</td>\n",
              "      <td>0</td>\n",
              "      <td>1</td>\n",
              "      <td>0</td>\n",
              "      <td>0</td>\n",
              "    </tr>\n",
              "    <tr>\n",
              "      <th>19236</th>\n",
              "      <td>470</td>\n",
              "      <td>6.624065</td>\n",
              "      <td>3769.0</td>\n",
              "      <td>1079.0</td>\n",
              "      <td>8736.0</td>\n",
              "      <td>987.0</td>\n",
              "      <td>1.0</td>\n",
              "      <td>14367.0</td>\n",
              "      <td>4489.0</td>\n",
              "      <td>5654.0</td>\n",
              "      <td>9</td>\n",
              "      <td>1</td>\n",
              "      <td>0</td>\n",
              "      <td>1</td>\n",
              "      <td>0</td>\n",
              "      <td>0</td>\n",
              "      <td>0</td>\n",
              "      <td>0</td>\n",
              "      <td>0</td>\n",
              "      <td>0</td>\n",
              "      <td>0</td>\n",
              "      <td>1</td>\n",
              "      <td>0</td>\n",
              "      <td>1</td>\n",
              "      <td>0</td>\n",
              "      <td>0</td>\n",
              "    </tr>\n",
              "  </tbody>\n",
              "</table>\n",
              "<p>19237 rows × 26 columns</p>\n",
              "</div>"
            ],
            "text/plain": [
              "       Price      Levy  ...  Doors_>5  Wheel_Right-hand drive\n",
              "0      13328  7.243513  ...         0                       0\n",
              "1      16621  6.925595  ...         0                       0\n",
              "2       8467  6.660575  ...         0                       1\n",
              "3       3607  6.759255  ...         0                       0\n",
              "4      11726  6.100319  ...         0                       0\n",
              "...      ...       ...  ...       ...                     ...\n",
              "19232   8467  6.660575  ...         0                       0\n",
              "19233  15681  6.722630  ...         0                       0\n",
              "19234  26108  6.728629  ...         0                       0\n",
              "19235   5331  7.160846  ...         0                       0\n",
              "19236    470  6.624065  ...         0                       0\n",
              "\n",
              "[19237 rows x 26 columns]"
            ]
          },
          "metadata": {
            "tags": []
          },
          "execution_count": 403
        }
      ]
    },
    {
      "cell_type": "code",
      "metadata": {
        "colab": {
          "base_uri": "https://localhost:8080/",
          "height": 1000
        },
        "id": "WogmlLnskTU9",
        "outputId": "9a3a3cbf-d295-498f-db6d-bed8b62485ad"
      },
      "source": [
        "train_data.corr()"
      ],
      "execution_count": null,
      "outputs": [
        {
          "output_type": "execute_result",
          "data": {
            "text/html": [
              "<div>\n",
              "<style scoped>\n",
              "    .dataframe tbody tr th:only-of-type {\n",
              "        vertical-align: middle;\n",
              "    }\n",
              "\n",
              "    .dataframe tbody tr th {\n",
              "        vertical-align: top;\n",
              "    }\n",
              "\n",
              "    .dataframe thead th {\n",
              "        text-align: right;\n",
              "    }\n",
              "</style>\n",
              "<table border=\"1\" class=\"dataframe\">\n",
              "  <thead>\n",
              "    <tr style=\"text-align: right;\">\n",
              "      <th></th>\n",
              "      <th>Price</th>\n",
              "      <th>Levy</th>\n",
              "      <th>Manufacturer</th>\n",
              "      <th>Model</th>\n",
              "      <th>Category</th>\n",
              "      <th>Engine volume</th>\n",
              "      <th>Mileage</th>\n",
              "      <th>Cylinders</th>\n",
              "      <th>Color</th>\n",
              "      <th>Airbags</th>\n",
              "      <th>Age</th>\n",
              "      <th>Leather interior_Yes</th>\n",
              "      <th>Fuel type_Diesel</th>\n",
              "      <th>Fuel type_Hybrid</th>\n",
              "      <th>Fuel type_Hydrogen</th>\n",
              "      <th>Fuel type_LPG</th>\n",
              "      <th>Fuel type_Petrol</th>\n",
              "      <th>Fuel type_Plug-in Hybrid</th>\n",
              "      <th>Gear box type_Manual</th>\n",
              "      <th>Gear box type_Tiptronic</th>\n",
              "      <th>Gear box type_Variator</th>\n",
              "      <th>Drive wheels_Front</th>\n",
              "      <th>Drive wheels_Rear</th>\n",
              "      <th>Doors_04-May</th>\n",
              "      <th>Doors_&gt;5</th>\n",
              "      <th>Wheel_Right-hand drive</th>\n",
              "    </tr>\n",
              "  </thead>\n",
              "  <tbody>\n",
              "    <tr>\n",
              "      <th>Price</th>\n",
              "      <td>1.000000</td>\n",
              "      <td>0.007860</td>\n",
              "      <td>-0.001876</td>\n",
              "      <td>-0.011952</td>\n",
              "      <td>-0.021253</td>\n",
              "      <td>-0.009948</td>\n",
              "      <td>-0.010582</td>\n",
              "      <td>-0.002057</td>\n",
              "      <td>-0.003281</td>\n",
              "      <td>0.000388</td>\n",
              "      <td>-0.012982</td>\n",
              "      <td>0.000754</td>\n",
              "      <td>0.032648</td>\n",
              "      <td>-0.019330</td>\n",
              "      <td>0.000069</td>\n",
              "      <td>-0.006070</td>\n",
              "      <td>-0.006536</td>\n",
              "      <td>0.001809</td>\n",
              "      <td>0.012172</td>\n",
              "      <td>0.018158</td>\n",
              "      <td>-0.003998</td>\n",
              "      <td>-0.000482</td>\n",
              "      <td>-0.002640</td>\n",
              "      <td>-0.032472</td>\n",
              "      <td>0.001608</td>\n",
              "      <td>-0.014649</td>\n",
              "    </tr>\n",
              "    <tr>\n",
              "      <th>Levy</th>\n",
              "      <td>0.007860</td>\n",
              "      <td>1.000000</td>\n",
              "      <td>-0.065781</td>\n",
              "      <td>-0.159498</td>\n",
              "      <td>-0.024808</td>\n",
              "      <td>-0.148747</td>\n",
              "      <td>0.003822</td>\n",
              "      <td>-0.416526</td>\n",
              "      <td>0.056738</td>\n",
              "      <td>0.030817</td>\n",
              "      <td>0.040244</td>\n",
              "      <td>0.051020</td>\n",
              "      <td>0.109622</td>\n",
              "      <td>-0.247012</td>\n",
              "      <td>-0.000832</td>\n",
              "      <td>-0.025039</td>\n",
              "      <td>0.123708</td>\n",
              "      <td>-0.060854</td>\n",
              "      <td>0.011334</td>\n",
              "      <td>-0.019002</td>\n",
              "      <td>-0.036508</td>\n",
              "      <td>-0.351823</td>\n",
              "      <td>0.117494</td>\n",
              "      <td>-0.024615</td>\n",
              "      <td>-0.001420</td>\n",
              "      <td>0.069768</td>\n",
              "    </tr>\n",
              "    <tr>\n",
              "      <th>Manufacturer</th>\n",
              "      <td>-0.001876</td>\n",
              "      <td>-0.065781</td>\n",
              "      <td>1.000000</td>\n",
              "      <td>0.682916</td>\n",
              "      <td>0.096788</td>\n",
              "      <td>0.228944</td>\n",
              "      <td>-0.088628</td>\n",
              "      <td>0.209439</td>\n",
              "      <td>-0.002470</td>\n",
              "      <td>0.211858</td>\n",
              "      <td>-0.268275</td>\n",
              "      <td>0.115653</td>\n",
              "      <td>0.035415</td>\n",
              "      <td>0.230312</td>\n",
              "      <td>0.008816</td>\n",
              "      <td>0.162539</td>\n",
              "      <td>-0.239584</td>\n",
              "      <td>-0.024945</td>\n",
              "      <td>-0.235197</td>\n",
              "      <td>-0.096352</td>\n",
              "      <td>0.055047</td>\n",
              "      <td>0.270816</td>\n",
              "      <td>-0.101856</td>\n",
              "      <td>0.119737</td>\n",
              "      <td>-0.010654</td>\n",
              "      <td>-0.107134</td>\n",
              "    </tr>\n",
              "    <tr>\n",
              "      <th>Model</th>\n",
              "      <td>-0.011952</td>\n",
              "      <td>-0.159498</td>\n",
              "      <td>0.682916</td>\n",
              "      <td>1.000000</td>\n",
              "      <td>0.249091</td>\n",
              "      <td>0.250163</td>\n",
              "      <td>-0.071060</td>\n",
              "      <td>0.256977</td>\n",
              "      <td>-0.004574</td>\n",
              "      <td>0.185868</td>\n",
              "      <td>-0.258983</td>\n",
              "      <td>0.107860</td>\n",
              "      <td>-0.068633</td>\n",
              "      <td>0.305875</td>\n",
              "      <td>-0.006419</td>\n",
              "      <td>0.248337</td>\n",
              "      <td>-0.246105</td>\n",
              "      <td>-0.019891</td>\n",
              "      <td>-0.232445</td>\n",
              "      <td>-0.129481</td>\n",
              "      <td>0.089354</td>\n",
              "      <td>0.375080</td>\n",
              "      <td>-0.217214</td>\n",
              "      <td>0.145937</td>\n",
              "      <td>-0.033851</td>\n",
              "      <td>-0.139644</td>\n",
              "    </tr>\n",
              "    <tr>\n",
              "      <th>Category</th>\n",
              "      <td>-0.021253</td>\n",
              "      <td>-0.024808</td>\n",
              "      <td>0.096788</td>\n",
              "      <td>0.249091</td>\n",
              "      <td>1.000000</td>\n",
              "      <td>0.147078</td>\n",
              "      <td>-0.042152</td>\n",
              "      <td>-0.039004</td>\n",
              "      <td>0.055630</td>\n",
              "      <td>0.119830</td>\n",
              "      <td>-0.181152</td>\n",
              "      <td>0.227085</td>\n",
              "      <td>-0.220339</td>\n",
              "      <td>-0.016067</td>\n",
              "      <td>0.006797</td>\n",
              "      <td>0.120615</td>\n",
              "      <td>0.151904</td>\n",
              "      <td>-0.016554</td>\n",
              "      <td>-0.238969</td>\n",
              "      <td>0.107778</td>\n",
              "      <td>-0.091191</td>\n",
              "      <td>0.023375</td>\n",
              "      <td>-0.002523</td>\n",
              "      <td>0.290428</td>\n",
              "      <td>-0.052934</td>\n",
              "      <td>-0.206154</td>\n",
              "    </tr>\n",
              "    <tr>\n",
              "      <th>Engine volume</th>\n",
              "      <td>-0.009948</td>\n",
              "      <td>-0.148747</td>\n",
              "      <td>0.228944</td>\n",
              "      <td>0.250163</td>\n",
              "      <td>0.147078</td>\n",
              "      <td>1.000000</td>\n",
              "      <td>-0.092460</td>\n",
              "      <td>0.404069</td>\n",
              "      <td>-0.010564</td>\n",
              "      <td>0.231849</td>\n",
              "      <td>-0.198790</td>\n",
              "      <td>0.129085</td>\n",
              "      <td>0.072458</td>\n",
              "      <td>-0.010923</td>\n",
              "      <td>-0.003641</td>\n",
              "      <td>0.210871</td>\n",
              "      <td>-0.134098</td>\n",
              "      <td>-0.002971</td>\n",
              "      <td>-0.134189</td>\n",
              "      <td>-0.178211</td>\n",
              "      <td>-0.032207</td>\n",
              "      <td>0.305449</td>\n",
              "      <td>-0.167542</td>\n",
              "      <td>0.130579</td>\n",
              "      <td>-0.036553</td>\n",
              "      <td>-0.090938</td>\n",
              "    </tr>\n",
              "    <tr>\n",
              "      <th>Mileage</th>\n",
              "      <td>-0.010582</td>\n",
              "      <td>0.003822</td>\n",
              "      <td>-0.088628</td>\n",
              "      <td>-0.071060</td>\n",
              "      <td>-0.042152</td>\n",
              "      <td>-0.092460</td>\n",
              "      <td>1.000000</td>\n",
              "      <td>-0.048451</td>\n",
              "      <td>-0.024099</td>\n",
              "      <td>-0.105459</td>\n",
              "      <td>0.198907</td>\n",
              "      <td>-0.147786</td>\n",
              "      <td>-0.049754</td>\n",
              "      <td>0.010360</td>\n",
              "      <td>-0.001878</td>\n",
              "      <td>-0.040175</td>\n",
              "      <td>0.020921</td>\n",
              "      <td>0.002251</td>\n",
              "      <td>0.147478</td>\n",
              "      <td>0.001930</td>\n",
              "      <td>0.017506</td>\n",
              "      <td>-0.060681</td>\n",
              "      <td>0.070837</td>\n",
              "      <td>-0.054433</td>\n",
              "      <td>0.021486</td>\n",
              "      <td>0.095185</td>\n",
              "    </tr>\n",
              "    <tr>\n",
              "      <th>Cylinders</th>\n",
              "      <td>-0.002057</td>\n",
              "      <td>-0.416526</td>\n",
              "      <td>0.209439</td>\n",
              "      <td>0.256977</td>\n",
              "      <td>-0.039004</td>\n",
              "      <td>0.404069</td>\n",
              "      <td>-0.048451</td>\n",
              "      <td>1.000000</td>\n",
              "      <td>-0.099605</td>\n",
              "      <td>0.089337</td>\n",
              "      <td>-0.140965</td>\n",
              "      <td>-0.157032</td>\n",
              "      <td>-0.011109</td>\n",
              "      <td>0.129860</td>\n",
              "      <td>-0.011178</td>\n",
              "      <td>0.054275</td>\n",
              "      <td>-0.103336</td>\n",
              "      <td>0.036538</td>\n",
              "      <td>0.053424</td>\n",
              "      <td>-0.192440</td>\n",
              "      <td>0.078269</td>\n",
              "      <td>0.609279</td>\n",
              "      <td>-0.270961</td>\n",
              "      <td>0.078962</td>\n",
              "      <td>-0.028528</td>\n",
              "      <td>0.049179</td>\n",
              "    </tr>\n",
              "    <tr>\n",
              "      <th>Color</th>\n",
              "      <td>-0.003281</td>\n",
              "      <td>0.056738</td>\n",
              "      <td>-0.002470</td>\n",
              "      <td>-0.004574</td>\n",
              "      <td>0.055630</td>\n",
              "      <td>-0.010564</td>\n",
              "      <td>-0.024099</td>\n",
              "      <td>-0.099605</td>\n",
              "      <td>1.000000</td>\n",
              "      <td>0.070502</td>\n",
              "      <td>-0.116736</td>\n",
              "      <td>0.132532</td>\n",
              "      <td>0.069194</td>\n",
              "      <td>-0.004521</td>\n",
              "      <td>-0.005365</td>\n",
              "      <td>-0.078030</td>\n",
              "      <td>-0.007646</td>\n",
              "      <td>-0.005913</td>\n",
              "      <td>-0.089230</td>\n",
              "      <td>0.012395</td>\n",
              "      <td>-0.041088</td>\n",
              "      <td>-0.080154</td>\n",
              "      <td>0.022681</td>\n",
              "      <td>0.049338</td>\n",
              "      <td>0.000641</td>\n",
              "      <td>-0.040592</td>\n",
              "    </tr>\n",
              "    <tr>\n",
              "      <th>Airbags</th>\n",
              "      <td>0.000388</td>\n",
              "      <td>0.030817</td>\n",
              "      <td>0.211858</td>\n",
              "      <td>0.185868</td>\n",
              "      <td>0.119830</td>\n",
              "      <td>0.231849</td>\n",
              "      <td>-0.105459</td>\n",
              "      <td>0.089337</td>\n",
              "      <td>0.070502</td>\n",
              "      <td>1.000000</td>\n",
              "      <td>-0.310483</td>\n",
              "      <td>0.403166</td>\n",
              "      <td>0.169646</td>\n",
              "      <td>-0.062494</td>\n",
              "      <td>-0.008357</td>\n",
              "      <td>0.091084</td>\n",
              "      <td>-0.094909</td>\n",
              "      <td>-0.041893</td>\n",
              "      <td>-0.239725</td>\n",
              "      <td>-0.208271</td>\n",
              "      <td>-0.127323</td>\n",
              "      <td>0.157867</td>\n",
              "      <td>-0.120024</td>\n",
              "      <td>0.133284</td>\n",
              "      <td>-0.053146</td>\n",
              "      <td>-0.164376</td>\n",
              "    </tr>\n",
              "    <tr>\n",
              "      <th>Age</th>\n",
              "      <td>-0.012982</td>\n",
              "      <td>0.040244</td>\n",
              "      <td>-0.268275</td>\n",
              "      <td>-0.258983</td>\n",
              "      <td>-0.181152</td>\n",
              "      <td>-0.198790</td>\n",
              "      <td>0.198907</td>\n",
              "      <td>-0.140965</td>\n",
              "      <td>-0.116736</td>\n",
              "      <td>-0.310483</td>\n",
              "      <td>1.000000</td>\n",
              "      <td>-0.390066</td>\n",
              "      <td>-0.004096</td>\n",
              "      <td>-0.107022</td>\n",
              "      <td>-0.001383</td>\n",
              "      <td>-0.042946</td>\n",
              "      <td>0.009959</td>\n",
              "      <td>-0.025774</td>\n",
              "      <td>0.519090</td>\n",
              "      <td>0.032157</td>\n",
              "      <td>0.030445</td>\n",
              "      <td>-0.256337</td>\n",
              "      <td>0.295771</td>\n",
              "      <td>-0.208938</td>\n",
              "      <td>0.039236</td>\n",
              "      <td>0.227172</td>\n",
              "    </tr>\n",
              "    <tr>\n",
              "      <th>Leather interior_Yes</th>\n",
              "      <td>0.000754</td>\n",
              "      <td>0.051020</td>\n",
              "      <td>0.115653</td>\n",
              "      <td>0.107860</td>\n",
              "      <td>0.227085</td>\n",
              "      <td>0.129085</td>\n",
              "      <td>-0.147786</td>\n",
              "      <td>-0.157032</td>\n",
              "      <td>0.132532</td>\n",
              "      <td>0.403166</td>\n",
              "      <td>-0.390066</td>\n",
              "      <td>1.000000</td>\n",
              "      <td>0.112529</td>\n",
              "      <td>-0.036034</td>\n",
              "      <td>0.004436</td>\n",
              "      <td>0.069215</td>\n",
              "      <td>-0.050283</td>\n",
              "      <td>-0.011142</td>\n",
              "      <td>-0.389183</td>\n",
              "      <td>-0.043738</td>\n",
              "      <td>-0.192514</td>\n",
              "      <td>-0.048879</td>\n",
              "      <td>-0.043749</td>\n",
              "      <td>0.120170</td>\n",
              "      <td>-0.032732</td>\n",
              "      <td>-0.348970</td>\n",
              "    </tr>\n",
              "    <tr>\n",
              "      <th>Fuel type_Diesel</th>\n",
              "      <td>0.032648</td>\n",
              "      <td>0.109622</td>\n",
              "      <td>0.035415</td>\n",
              "      <td>-0.068633</td>\n",
              "      <td>-0.220339</td>\n",
              "      <td>0.072458</td>\n",
              "      <td>-0.049754</td>\n",
              "      <td>-0.011109</td>\n",
              "      <td>0.069194</td>\n",
              "      <td>0.169646</td>\n",
              "      <td>-0.004096</td>\n",
              "      <td>0.112529</td>\n",
              "      <td>1.000000</td>\n",
              "      <td>-0.246308</td>\n",
              "      <td>-0.003715</td>\n",
              "      <td>-0.113622</td>\n",
              "      <td>-0.544581</td>\n",
              "      <td>-0.034530</td>\n",
              "      <td>0.137150</td>\n",
              "      <td>-0.123174</td>\n",
              "      <td>-0.103497</td>\n",
              "      <td>-0.046135</td>\n",
              "      <td>0.079177</td>\n",
              "      <td>-0.023593</td>\n",
              "      <td>0.014361</td>\n",
              "      <td>-0.132709</td>\n",
              "    </tr>\n",
              "    <tr>\n",
              "      <th>Fuel type_Hybrid</th>\n",
              "      <td>-0.019330</td>\n",
              "      <td>-0.247012</td>\n",
              "      <td>0.230312</td>\n",
              "      <td>0.305875</td>\n",
              "      <td>-0.016067</td>\n",
              "      <td>-0.010923</td>\n",
              "      <td>0.010360</td>\n",
              "      <td>0.129860</td>\n",
              "      <td>-0.004521</td>\n",
              "      <td>-0.062494</td>\n",
              "      <td>-0.107022</td>\n",
              "      <td>-0.036034</td>\n",
              "      <td>-0.246308</td>\n",
              "      <td>1.000000</td>\n",
              "      <td>-0.003447</td>\n",
              "      <td>-0.105405</td>\n",
              "      <td>-0.505197</td>\n",
              "      <td>-0.032033</td>\n",
              "      <td>-0.154384</td>\n",
              "      <td>-0.121681</td>\n",
              "      <td>0.207761</td>\n",
              "      <td>0.197771</td>\n",
              "      <td>-0.161147</td>\n",
              "      <td>0.096113</td>\n",
              "      <td>-0.024333</td>\n",
              "      <td>0.013510</td>\n",
              "    </tr>\n",
              "    <tr>\n",
              "      <th>Fuel type_Hydrogen</th>\n",
              "      <td>0.000069</td>\n",
              "      <td>-0.000832</td>\n",
              "      <td>0.008816</td>\n",
              "      <td>-0.006419</td>\n",
              "      <td>0.006797</td>\n",
              "      <td>-0.003641</td>\n",
              "      <td>-0.001878</td>\n",
              "      <td>-0.011178</td>\n",
              "      <td>-0.005365</td>\n",
              "      <td>-0.008357</td>\n",
              "      <td>-0.001383</td>\n",
              "      <td>0.004436</td>\n",
              "      <td>-0.003715</td>\n",
              "      <td>-0.003447</td>\n",
              "      <td>1.000000</td>\n",
              "      <td>-0.001590</td>\n",
              "      <td>-0.007620</td>\n",
              "      <td>-0.000483</td>\n",
              "      <td>-0.002369</td>\n",
              "      <td>0.016444</td>\n",
              "      <td>-0.001448</td>\n",
              "      <td>0.005069</td>\n",
              "      <td>-0.002660</td>\n",
              "      <td>0.001602</td>\n",
              "      <td>-0.000590</td>\n",
              "      <td>-0.002085</td>\n",
              "    </tr>\n",
              "    <tr>\n",
              "      <th>Fuel type_LPG</th>\n",
              "      <td>-0.006070</td>\n",
              "      <td>-0.025039</td>\n",
              "      <td>0.162539</td>\n",
              "      <td>0.248337</td>\n",
              "      <td>0.120615</td>\n",
              "      <td>0.210871</td>\n",
              "      <td>-0.040175</td>\n",
              "      <td>0.054275</td>\n",
              "      <td>-0.078030</td>\n",
              "      <td>0.091084</td>\n",
              "      <td>-0.042946</td>\n",
              "      <td>0.069215</td>\n",
              "      <td>-0.113622</td>\n",
              "      <td>-0.105405</td>\n",
              "      <td>-0.001590</td>\n",
              "      <td>1.000000</td>\n",
              "      <td>-0.233049</td>\n",
              "      <td>-0.014777</td>\n",
              "      <td>-0.053294</td>\n",
              "      <td>-0.024089</td>\n",
              "      <td>-0.022524</td>\n",
              "      <td>0.079888</td>\n",
              "      <td>-0.041015</td>\n",
              "      <td>0.032649</td>\n",
              "      <td>0.003238</td>\n",
              "      <td>0.002954</td>\n",
              "    </tr>\n",
              "    <tr>\n",
              "      <th>Fuel type_Petrol</th>\n",
              "      <td>-0.006536</td>\n",
              "      <td>0.123708</td>\n",
              "      <td>-0.239584</td>\n",
              "      <td>-0.246105</td>\n",
              "      <td>0.151904</td>\n",
              "      <td>-0.134098</td>\n",
              "      <td>0.020921</td>\n",
              "      <td>-0.103336</td>\n",
              "      <td>-0.007646</td>\n",
              "      <td>-0.094909</td>\n",
              "      <td>0.009959</td>\n",
              "      <td>-0.050283</td>\n",
              "      <td>-0.544581</td>\n",
              "      <td>-0.505197</td>\n",
              "      <td>-0.007620</td>\n",
              "      <td>-0.233049</td>\n",
              "      <td>1.000000</td>\n",
              "      <td>-0.070823</td>\n",
              "      <td>-0.023629</td>\n",
              "      <td>0.197993</td>\n",
              "      <td>-0.067744</td>\n",
              "      <td>-0.122983</td>\n",
              "      <td>0.052203</td>\n",
              "      <td>-0.067125</td>\n",
              "      <td>-0.003249</td>\n",
              "      <td>0.077659</td>\n",
              "    </tr>\n",
              "    <tr>\n",
              "      <th>Fuel type_Plug-in Hybrid</th>\n",
              "      <td>0.001809</td>\n",
              "      <td>-0.060854</td>\n",
              "      <td>-0.024945</td>\n",
              "      <td>-0.019891</td>\n",
              "      <td>-0.016554</td>\n",
              "      <td>-0.002971</td>\n",
              "      <td>0.002251</td>\n",
              "      <td>0.036538</td>\n",
              "      <td>-0.005913</td>\n",
              "      <td>-0.041893</td>\n",
              "      <td>-0.025774</td>\n",
              "      <td>-0.011142</td>\n",
              "      <td>-0.034530</td>\n",
              "      <td>-0.032033</td>\n",
              "      <td>-0.000483</td>\n",
              "      <td>-0.014777</td>\n",
              "      <td>-0.070823</td>\n",
              "      <td>1.000000</td>\n",
              "      <td>-0.022022</td>\n",
              "      <td>-0.003957</td>\n",
              "      <td>0.047079</td>\n",
              "      <td>0.042143</td>\n",
              "      <td>-0.022326</td>\n",
              "      <td>0.014889</td>\n",
              "      <td>-0.005485</td>\n",
              "      <td>-0.016454</td>\n",
              "    </tr>\n",
              "    <tr>\n",
              "      <th>Gear box type_Manual</th>\n",
              "      <td>0.012172</td>\n",
              "      <td>0.011334</td>\n",
              "      <td>-0.235197</td>\n",
              "      <td>-0.232445</td>\n",
              "      <td>-0.238969</td>\n",
              "      <td>-0.134189</td>\n",
              "      <td>0.147478</td>\n",
              "      <td>0.053424</td>\n",
              "      <td>-0.089230</td>\n",
              "      <td>-0.239725</td>\n",
              "      <td>0.519090</td>\n",
              "      <td>-0.389183</td>\n",
              "      <td>0.137150</td>\n",
              "      <td>-0.154384</td>\n",
              "      <td>-0.002369</td>\n",
              "      <td>-0.053294</td>\n",
              "      <td>-0.023629</td>\n",
              "      <td>-0.022022</td>\n",
              "      <td>1.000000</td>\n",
              "      <td>-0.144091</td>\n",
              "      <td>-0.066007</td>\n",
              "      <td>-0.102372</td>\n",
              "      <td>0.247361</td>\n",
              "      <td>-0.274645</td>\n",
              "      <td>0.046402</td>\n",
              "      <td>-0.029982</td>\n",
              "    </tr>\n",
              "    <tr>\n",
              "      <th>Gear box type_Tiptronic</th>\n",
              "      <td>0.018158</td>\n",
              "      <td>-0.019002</td>\n",
              "      <td>-0.096352</td>\n",
              "      <td>-0.129481</td>\n",
              "      <td>0.107778</td>\n",
              "      <td>-0.178211</td>\n",
              "      <td>0.001930</td>\n",
              "      <td>-0.192440</td>\n",
              "      <td>0.012395</td>\n",
              "      <td>-0.208271</td>\n",
              "      <td>0.032157</td>\n",
              "      <td>-0.043738</td>\n",
              "      <td>-0.123174</td>\n",
              "      <td>-0.121681</td>\n",
              "      <td>0.016444</td>\n",
              "      <td>-0.024089</td>\n",
              "      <td>0.197993</td>\n",
              "      <td>-0.003957</td>\n",
              "      <td>-0.144091</td>\n",
              "      <td>1.000000</td>\n",
              "      <td>-0.088070</td>\n",
              "      <td>-0.189258</td>\n",
              "      <td>0.158134</td>\n",
              "      <td>-0.050113</td>\n",
              "      <td>0.035398</td>\n",
              "      <td>0.011497</td>\n",
              "    </tr>\n",
              "    <tr>\n",
              "      <th>Gear box type_Variator</th>\n",
              "      <td>-0.003998</td>\n",
              "      <td>-0.036508</td>\n",
              "      <td>0.055047</td>\n",
              "      <td>0.089354</td>\n",
              "      <td>-0.091191</td>\n",
              "      <td>-0.032207</td>\n",
              "      <td>0.017506</td>\n",
              "      <td>0.078269</td>\n",
              "      <td>-0.041088</td>\n",
              "      <td>-0.127323</td>\n",
              "      <td>0.030445</td>\n",
              "      <td>-0.192514</td>\n",
              "      <td>-0.103497</td>\n",
              "      <td>0.207761</td>\n",
              "      <td>-0.001448</td>\n",
              "      <td>-0.022524</td>\n",
              "      <td>-0.067744</td>\n",
              "      <td>0.047079</td>\n",
              "      <td>-0.066007</td>\n",
              "      <td>-0.088070</td>\n",
              "      <td>1.000000</td>\n",
              "      <td>0.101151</td>\n",
              "      <td>-0.069134</td>\n",
              "      <td>0.034455</td>\n",
              "      <td>0.000120</td>\n",
              "      <td>0.213376</td>\n",
              "    </tr>\n",
              "    <tr>\n",
              "      <th>Drive wheels_Front</th>\n",
              "      <td>-0.000482</td>\n",
              "      <td>-0.351823</td>\n",
              "      <td>0.270816</td>\n",
              "      <td>0.375080</td>\n",
              "      <td>0.023375</td>\n",
              "      <td>0.305449</td>\n",
              "      <td>-0.060681</td>\n",
              "      <td>0.609279</td>\n",
              "      <td>-0.080154</td>\n",
              "      <td>0.157867</td>\n",
              "      <td>-0.256337</td>\n",
              "      <td>-0.048879</td>\n",
              "      <td>-0.046135</td>\n",
              "      <td>0.197771</td>\n",
              "      <td>0.005069</td>\n",
              "      <td>0.079888</td>\n",
              "      <td>-0.122983</td>\n",
              "      <td>0.042143</td>\n",
              "      <td>-0.102372</td>\n",
              "      <td>-0.189258</td>\n",
              "      <td>0.101151</td>\n",
              "      <td>1.000000</td>\n",
              "      <td>-0.524816</td>\n",
              "      <td>0.131840</td>\n",
              "      <td>-0.037593</td>\n",
              "      <td>0.024374</td>\n",
              "    </tr>\n",
              "    <tr>\n",
              "      <th>Drive wheels_Rear</th>\n",
              "      <td>-0.002640</td>\n",
              "      <td>0.117494</td>\n",
              "      <td>-0.101856</td>\n",
              "      <td>-0.217214</td>\n",
              "      <td>-0.002523</td>\n",
              "      <td>-0.167542</td>\n",
              "      <td>0.070837</td>\n",
              "      <td>-0.270961</td>\n",
              "      <td>0.022681</td>\n",
              "      <td>-0.120024</td>\n",
              "      <td>0.295771</td>\n",
              "      <td>-0.043749</td>\n",
              "      <td>0.079177</td>\n",
              "      <td>-0.161147</td>\n",
              "      <td>-0.002660</td>\n",
              "      <td>-0.041015</td>\n",
              "      <td>0.052203</td>\n",
              "      <td>-0.022326</td>\n",
              "      <td>0.247361</td>\n",
              "      <td>0.158134</td>\n",
              "      <td>-0.069134</td>\n",
              "      <td>-0.524816</td>\n",
              "      <td>1.000000</td>\n",
              "      <td>-0.221175</td>\n",
              "      <td>0.032808</td>\n",
              "      <td>-0.025685</td>\n",
              "    </tr>\n",
              "    <tr>\n",
              "      <th>Doors_04-May</th>\n",
              "      <td>-0.032472</td>\n",
              "      <td>-0.024615</td>\n",
              "      <td>0.119737</td>\n",
              "      <td>0.145937</td>\n",
              "      <td>0.290428</td>\n",
              "      <td>0.130579</td>\n",
              "      <td>-0.054433</td>\n",
              "      <td>0.078962</td>\n",
              "      <td>0.049338</td>\n",
              "      <td>0.133284</td>\n",
              "      <td>-0.208938</td>\n",
              "      <td>0.120170</td>\n",
              "      <td>-0.023593</td>\n",
              "      <td>0.096113</td>\n",
              "      <td>0.001602</td>\n",
              "      <td>0.032649</td>\n",
              "      <td>-0.067125</td>\n",
              "      <td>0.014889</td>\n",
              "      <td>-0.274645</td>\n",
              "      <td>-0.050113</td>\n",
              "      <td>0.034455</td>\n",
              "      <td>0.131840</td>\n",
              "      <td>-0.221175</td>\n",
              "      <td>1.000000</td>\n",
              "      <td>-0.368355</td>\n",
              "      <td>-0.015813</td>\n",
              "    </tr>\n",
              "    <tr>\n",
              "      <th>Doors_&gt;5</th>\n",
              "      <td>0.001608</td>\n",
              "      <td>-0.001420</td>\n",
              "      <td>-0.010654</td>\n",
              "      <td>-0.033851</td>\n",
              "      <td>-0.052934</td>\n",
              "      <td>-0.036553</td>\n",
              "      <td>0.021486</td>\n",
              "      <td>-0.028528</td>\n",
              "      <td>0.000641</td>\n",
              "      <td>-0.053146</td>\n",
              "      <td>0.039236</td>\n",
              "      <td>-0.032732</td>\n",
              "      <td>0.014361</td>\n",
              "      <td>-0.024333</td>\n",
              "      <td>-0.000590</td>\n",
              "      <td>0.003238</td>\n",
              "      <td>-0.003249</td>\n",
              "      <td>-0.005485</td>\n",
              "      <td>0.046402</td>\n",
              "      <td>0.035398</td>\n",
              "      <td>0.000120</td>\n",
              "      <td>-0.037593</td>\n",
              "      <td>0.032808</td>\n",
              "      <td>-0.368355</td>\n",
              "      <td>1.000000</td>\n",
              "      <td>0.005094</td>\n",
              "    </tr>\n",
              "    <tr>\n",
              "      <th>Wheel_Right-hand drive</th>\n",
              "      <td>-0.014649</td>\n",
              "      <td>0.069768</td>\n",
              "      <td>-0.107134</td>\n",
              "      <td>-0.139644</td>\n",
              "      <td>-0.206154</td>\n",
              "      <td>-0.090938</td>\n",
              "      <td>0.095185</td>\n",
              "      <td>0.049179</td>\n",
              "      <td>-0.040592</td>\n",
              "      <td>-0.164376</td>\n",
              "      <td>0.227172</td>\n",
              "      <td>-0.348970</td>\n",
              "      <td>-0.132709</td>\n",
              "      <td>0.013510</td>\n",
              "      <td>-0.002085</td>\n",
              "      <td>0.002954</td>\n",
              "      <td>0.077659</td>\n",
              "      <td>-0.016454</td>\n",
              "      <td>-0.029982</td>\n",
              "      <td>0.011497</td>\n",
              "      <td>0.213376</td>\n",
              "      <td>0.024374</td>\n",
              "      <td>-0.025685</td>\n",
              "      <td>-0.015813</td>\n",
              "      <td>0.005094</td>\n",
              "      <td>1.000000</td>\n",
              "    </tr>\n",
              "  </tbody>\n",
              "</table>\n",
              "</div>"
            ],
            "text/plain": [
              "                             Price      Levy  ...  Doors_>5  Wheel_Right-hand drive\n",
              "Price                     1.000000  0.007860  ...  0.001608               -0.014649\n",
              "Levy                      0.007860  1.000000  ... -0.001420                0.069768\n",
              "Manufacturer             -0.001876 -0.065781  ... -0.010654               -0.107134\n",
              "Model                    -0.011952 -0.159498  ... -0.033851               -0.139644\n",
              "Category                 -0.021253 -0.024808  ... -0.052934               -0.206154\n",
              "Engine volume            -0.009948 -0.148747  ... -0.036553               -0.090938\n",
              "Mileage                  -0.010582  0.003822  ...  0.021486                0.095185\n",
              "Cylinders                -0.002057 -0.416526  ... -0.028528                0.049179\n",
              "Color                    -0.003281  0.056738  ...  0.000641               -0.040592\n",
              "Airbags                   0.000388  0.030817  ... -0.053146               -0.164376\n",
              "Age                      -0.012982  0.040244  ...  0.039236                0.227172\n",
              "Leather interior_Yes      0.000754  0.051020  ... -0.032732               -0.348970\n",
              "Fuel type_Diesel          0.032648  0.109622  ...  0.014361               -0.132709\n",
              "Fuel type_Hybrid         -0.019330 -0.247012  ... -0.024333                0.013510\n",
              "Fuel type_Hydrogen        0.000069 -0.000832  ... -0.000590               -0.002085\n",
              "Fuel type_LPG            -0.006070 -0.025039  ...  0.003238                0.002954\n",
              "Fuel type_Petrol         -0.006536  0.123708  ... -0.003249                0.077659\n",
              "Fuel type_Plug-in Hybrid  0.001809 -0.060854  ... -0.005485               -0.016454\n",
              "Gear box type_Manual      0.012172  0.011334  ...  0.046402               -0.029982\n",
              "Gear box type_Tiptronic   0.018158 -0.019002  ...  0.035398                0.011497\n",
              "Gear box type_Variator   -0.003998 -0.036508  ...  0.000120                0.213376\n",
              "Drive wheels_Front       -0.000482 -0.351823  ... -0.037593                0.024374\n",
              "Drive wheels_Rear        -0.002640  0.117494  ...  0.032808               -0.025685\n",
              "Doors_04-May             -0.032472 -0.024615  ... -0.368355               -0.015813\n",
              "Doors_>5                  0.001608 -0.001420  ...  1.000000                0.005094\n",
              "Wheel_Right-hand drive   -0.014649  0.069768  ...  0.005094                1.000000\n",
              "\n",
              "[26 rows x 26 columns]"
            ]
          },
          "metadata": {
            "tags": []
          },
          "execution_count": 454
        }
      ]
    },
    {
      "cell_type": "code",
      "metadata": {
        "id": "fd9UYBfMQNTJ"
      },
      "source": [
        ""
      ],
      "execution_count": null,
      "outputs": []
    },
    {
      "cell_type": "markdown",
      "metadata": {
        "id": "MAml9CjoQUWP"
      },
      "source": [
        "Feature Scalling"
      ]
    },
    {
      "cell_type": "code",
      "metadata": {
        "id": "ZMg6Czk5QZ3k"
      },
      "source": [
        "from sklearn.preprocessing import StandardScaler\n",
        "model=StandardScaler()\n",
        "model.fit(train_data)\n",
        "train=model.transform(train_data)"
      ],
      "execution_count": null,
      "outputs": []
    },
    {
      "cell_type": "code",
      "metadata": {
        "id": "d9-7uGPLRRPa"
      },
      "source": [
        "train_data3=pd.DataFrame(train,columns=train_data.columns)"
      ],
      "execution_count": null,
      "outputs": []
    },
    {
      "cell_type": "code",
      "metadata": {
        "colab": {
          "base_uri": "https://localhost:8080/",
          "height": 470
        },
        "id": "XCEKqR2bRYfv",
        "outputId": "dfd6f13a-7c99-4dba-8a21-ed9255559af4"
      },
      "source": [
        "train_data3"
      ],
      "execution_count": null,
      "outputs": [
        {
          "output_type": "execute_result",
          "data": {
            "text/html": [
              "<div>\n",
              "<style scoped>\n",
              "    .dataframe tbody tr th:only-of-type {\n",
              "        vertical-align: middle;\n",
              "    }\n",
              "\n",
              "    .dataframe tbody tr th {\n",
              "        vertical-align: top;\n",
              "    }\n",
              "\n",
              "    .dataframe thead th {\n",
              "        text-align: right;\n",
              "    }\n",
              "</style>\n",
              "<table border=\"1\" class=\"dataframe\">\n",
              "  <thead>\n",
              "    <tr style=\"text-align: right;\">\n",
              "      <th></th>\n",
              "      <th>Price</th>\n",
              "      <th>Levy</th>\n",
              "      <th>Manufacturer</th>\n",
              "      <th>Model</th>\n",
              "      <th>Category</th>\n",
              "      <th>Engine volume</th>\n",
              "      <th>Mileage</th>\n",
              "      <th>Cylinders</th>\n",
              "      <th>Color</th>\n",
              "      <th>Airbags</th>\n",
              "      <th>Age</th>\n",
              "      <th>Leather interior_Yes</th>\n",
              "      <th>Fuel type_Diesel</th>\n",
              "      <th>Fuel type_Hybrid</th>\n",
              "      <th>Fuel type_Hydrogen</th>\n",
              "      <th>Fuel type_LPG</th>\n",
              "      <th>Fuel type_Petrol</th>\n",
              "      <th>Fuel type_Plug-in Hybrid</th>\n",
              "      <th>Gear box type_Manual</th>\n",
              "      <th>Gear box type_Tiptronic</th>\n",
              "      <th>Gear box type_Variator</th>\n",
              "      <th>Drive wheels_Front</th>\n",
              "      <th>Drive wheels_Rear</th>\n",
              "      <th>Doors_04-May</th>\n",
              "      <th>Doors_&gt;5</th>\n",
              "      <th>Wheel_Right-hand drive</th>\n",
              "    </tr>\n",
              "  </thead>\n",
              "  <tbody>\n",
              "    <tr>\n",
              "      <th>0</th>\n",
              "      <td>-0.027432</td>\n",
              "      <td>1.549007</td>\n",
              "      <td>-0.730661</td>\n",
              "      <td>-0.440517</td>\n",
              "      <td>-0.180317</td>\n",
              "      <td>-0.323089</td>\n",
              "      <td>-0.194799</td>\n",
              "      <td>-1.550265</td>\n",
              "      <td>0.158456</td>\n",
              "      <td>0.763384</td>\n",
              "      <td>0.161034</td>\n",
              "      <td>0.615306</td>\n",
              "      <td>-0.515276</td>\n",
              "      <td>2.092001</td>\n",
              "      <td>-0.00721</td>\n",
              "      <td>-0.220508</td>\n",
              "      <td>-1.056873</td>\n",
              "      <td>-0.067012</td>\n",
              "      <td>-0.328625</td>\n",
              "      <td>-0.438466</td>\n",
              "      <td>-0.200858</td>\n",
              "      <td>-1.422413</td>\n",
              "      <td>-0.368962</td>\n",
              "      <td>0.222187</td>\n",
              "      <td>-0.081844</td>\n",
              "      <td>-0.289122</td>\n",
              "    </tr>\n",
              "    <tr>\n",
              "      <th>1</th>\n",
              "      <td>-0.010153</td>\n",
              "      <td>0.641319</td>\n",
              "      <td>-0.669683</td>\n",
              "      <td>-0.837415</td>\n",
              "      <td>-0.180317</td>\n",
              "      <td>-0.628841</td>\n",
              "      <td>-0.143725</td>\n",
              "      <td>-1.550265</td>\n",
              "      <td>0.948938</td>\n",
              "      <td>-1.159111</td>\n",
              "      <td>-0.015379</td>\n",
              "      <td>-1.625208</td>\n",
              "      <td>-0.515276</td>\n",
              "      <td>-0.478011</td>\n",
              "      <td>-0.00721</td>\n",
              "      <td>-0.220508</td>\n",
              "      <td>0.946188</td>\n",
              "      <td>-0.067012</td>\n",
              "      <td>-0.328625</td>\n",
              "      <td>2.280676</td>\n",
              "      <td>-0.200858</td>\n",
              "      <td>-1.422413</td>\n",
              "      <td>-0.368962</td>\n",
              "      <td>0.222187</td>\n",
              "      <td>-0.081844</td>\n",
              "      <td>-0.289122</td>\n",
              "    </tr>\n",
              "    <tr>\n",
              "      <th>2</th>\n",
              "      <td>-0.052939</td>\n",
              "      <td>-0.115341</td>\n",
              "      <td>-0.734166</td>\n",
              "      <td>0.281837</td>\n",
              "      <td>-1.084082</td>\n",
              "      <td>-0.859098</td>\n",
              "      <td>1.001792</td>\n",
              "      <td>0.577755</td>\n",
              "      <td>0.948938</td>\n",
              "      <td>-1.416647</td>\n",
              "      <td>0.866685</td>\n",
              "      <td>-1.625208</td>\n",
              "      <td>-0.515276</td>\n",
              "      <td>-0.478011</td>\n",
              "      <td>-0.00721</td>\n",
              "      <td>-0.220508</td>\n",
              "      <td>0.946188</td>\n",
              "      <td>-0.067012</td>\n",
              "      <td>-0.328625</td>\n",
              "      <td>-0.438466</td>\n",
              "      <td>4.978641</td>\n",
              "      <td>0.703031</td>\n",
              "      <td>-0.368962</td>\n",
              "      <td>0.222187</td>\n",
              "      <td>-0.081844</td>\n",
              "      <td>3.458748</td>\n",
              "    </tr>\n",
              "    <tr>\n",
              "      <th>3</th>\n",
              "      <td>-0.078441</td>\n",
              "      <td>0.166401</td>\n",
              "      <td>-0.640245</td>\n",
              "      <td>-0.504020</td>\n",
              "      <td>-0.180317</td>\n",
              "      <td>0.468847</td>\n",
              "      <td>-0.282354</td>\n",
              "      <td>0.577755</td>\n",
              "      <td>0.602425</td>\n",
              "      <td>-0.780409</td>\n",
              "      <td>-0.015379</td>\n",
              "      <td>0.615306</td>\n",
              "      <td>-0.515276</td>\n",
              "      <td>2.092001</td>\n",
              "      <td>-0.00721</td>\n",
              "      <td>-0.220508</td>\n",
              "      <td>-1.056873</td>\n",
              "      <td>-0.067012</td>\n",
              "      <td>-0.328625</td>\n",
              "      <td>-0.438466</td>\n",
              "      <td>-0.200858</td>\n",
              "      <td>-1.422413</td>\n",
              "      <td>-0.368962</td>\n",
              "      <td>0.222187</td>\n",
              "      <td>-0.081844</td>\n",
              "      <td>-0.289122</td>\n",
              "    </tr>\n",
              "    <tr>\n",
              "      <th>4</th>\n",
              "      <td>-0.035838</td>\n",
              "      <td>-1.714930</td>\n",
              "      <td>-0.734166</td>\n",
              "      <td>0.281837</td>\n",
              "      <td>-1.084082</td>\n",
              "      <td>-0.859098</td>\n",
              "      <td>-0.326132</td>\n",
              "      <td>0.577755</td>\n",
              "      <td>0.158456</td>\n",
              "      <td>0.843685</td>\n",
              "      <td>-0.544617</td>\n",
              "      <td>0.615306</td>\n",
              "      <td>-0.515276</td>\n",
              "      <td>-0.478011</td>\n",
              "      <td>-0.00721</td>\n",
              "      <td>-0.220508</td>\n",
              "      <td>0.946188</td>\n",
              "      <td>-0.067012</td>\n",
              "      <td>-0.328625</td>\n",
              "      <td>-0.438466</td>\n",
              "      <td>-0.200858</td>\n",
              "      <td>0.703031</td>\n",
              "      <td>-0.368962</td>\n",
              "      <td>0.222187</td>\n",
              "      <td>-0.081844</td>\n",
              "      <td>-0.289122</td>\n",
              "    </tr>\n",
              "    <tr>\n",
              "      <th>...</th>\n",
              "      <td>...</td>\n",
              "      <td>...</td>\n",
              "      <td>...</td>\n",
              "      <td>...</td>\n",
              "      <td>...</td>\n",
              "      <td>...</td>\n",
              "      <td>...</td>\n",
              "      <td>...</td>\n",
              "      <td>...</td>\n",
              "      <td>...</td>\n",
              "      <td>...</td>\n",
              "      <td>...</td>\n",
              "      <td>...</td>\n",
              "      <td>...</td>\n",
              "      <td>...</td>\n",
              "      <td>...</td>\n",
              "      <td>...</td>\n",
              "      <td>...</td>\n",
              "      <td>...</td>\n",
              "      <td>...</td>\n",
              "      <td>...</td>\n",
              "      <td>...</td>\n",
              "      <td>...</td>\n",
              "      <td>...</td>\n",
              "      <td>...</td>\n",
              "      <td>...</td>\n",
              "    </tr>\n",
              "    <tr>\n",
              "      <th>19232</th>\n",
              "      <td>-0.052939</td>\n",
              "      <td>-0.115341</td>\n",
              "      <td>0.036123</td>\n",
              "      <td>-0.877104</td>\n",
              "      <td>-1.880813</td>\n",
              "      <td>-0.942142</td>\n",
              "      <td>0.155423</td>\n",
              "      <td>0.577755</td>\n",
              "      <td>0.158456</td>\n",
              "      <td>-1.873750</td>\n",
              "      <td>2.101574</td>\n",
              "      <td>0.615306</td>\n",
              "      <td>-0.515276</td>\n",
              "      <td>-0.478011</td>\n",
              "      <td>-0.00721</td>\n",
              "      <td>-0.220508</td>\n",
              "      <td>-1.056873</td>\n",
              "      <td>-0.067012</td>\n",
              "      <td>3.042981</td>\n",
              "      <td>-0.438466</td>\n",
              "      <td>-0.200858</td>\n",
              "      <td>-1.422413</td>\n",
              "      <td>2.710308</td>\n",
              "      <td>-4.500706</td>\n",
              "      <td>-0.081844</td>\n",
              "      <td>-0.289122</td>\n",
              "    </tr>\n",
              "    <tr>\n",
              "      <th>19233</th>\n",
              "      <td>-0.015085</td>\n",
              "      <td>0.061832</td>\n",
              "      <td>1.222747</td>\n",
              "      <td>1.956747</td>\n",
              "      <td>0.942678</td>\n",
              "      <td>-0.505030</td>\n",
              "      <td>-0.296947</td>\n",
              "      <td>0.577755</td>\n",
              "      <td>-1.849918</td>\n",
              "      <td>-1.159111</td>\n",
              "      <td>-0.015379</td>\n",
              "      <td>0.615306</td>\n",
              "      <td>-0.515276</td>\n",
              "      <td>-0.478011</td>\n",
              "      <td>-0.00721</td>\n",
              "      <td>-0.220508</td>\n",
              "      <td>0.946188</td>\n",
              "      <td>-0.067012</td>\n",
              "      <td>-0.328625</td>\n",
              "      <td>2.280676</td>\n",
              "      <td>-0.200858</td>\n",
              "      <td>0.703031</td>\n",
              "      <td>-0.368962</td>\n",
              "      <td>0.222187</td>\n",
              "      <td>-0.081844</td>\n",
              "      <td>-0.289122</td>\n",
              "    </tr>\n",
              "    <tr>\n",
              "      <th>19234</th>\n",
              "      <td>0.039628</td>\n",
              "      <td>0.078959</td>\n",
              "      <td>1.222747</td>\n",
              "      <td>0.236856</td>\n",
              "      <td>-0.180317</td>\n",
              "      <td>1.706198</td>\n",
              "      <td>-0.311539</td>\n",
              "      <td>0.577755</td>\n",
              "      <td>-0.744134</td>\n",
              "      <td>0.843685</td>\n",
              "      <td>0.161034</td>\n",
              "      <td>0.615306</td>\n",
              "      <td>1.940709</td>\n",
              "      <td>-0.478011</td>\n",
              "      <td>-0.00721</td>\n",
              "      <td>-0.220508</td>\n",
              "      <td>-1.056873</td>\n",
              "      <td>-0.067012</td>\n",
              "      <td>-0.328625</td>\n",
              "      <td>-0.438466</td>\n",
              "      <td>-0.200858</td>\n",
              "      <td>0.703031</td>\n",
              "      <td>-0.368962</td>\n",
              "      <td>0.222187</td>\n",
              "      <td>-0.081844</td>\n",
              "      <td>-0.289122</td>\n",
              "    </tr>\n",
              "    <tr>\n",
              "      <th>19235</th>\n",
              "      <td>-0.069394</td>\n",
              "      <td>1.312984</td>\n",
              "      <td>-0.669683</td>\n",
              "      <td>-0.527834</td>\n",
              "      <td>-0.180317</td>\n",
              "      <td>1.706198</td>\n",
              "      <td>-0.318836</td>\n",
              "      <td>0.577755</td>\n",
              "      <td>0.948938</td>\n",
              "      <td>0.843685</td>\n",
              "      <td>0.690272</td>\n",
              "      <td>0.615306</td>\n",
              "      <td>1.940709</td>\n",
              "      <td>-0.478011</td>\n",
              "      <td>-0.00721</td>\n",
              "      <td>-0.220508</td>\n",
              "      <td>-1.056873</td>\n",
              "      <td>-0.067012</td>\n",
              "      <td>-0.328625</td>\n",
              "      <td>-0.438466</td>\n",
              "      <td>-0.200858</td>\n",
              "      <td>0.703031</td>\n",
              "      <td>-0.368962</td>\n",
              "      <td>0.222187</td>\n",
              "      <td>-0.081844</td>\n",
              "      <td>-0.289122</td>\n",
              "    </tr>\n",
              "    <tr>\n",
              "      <th>19236</th>\n",
              "      <td>-0.094901</td>\n",
              "      <td>-0.219580</td>\n",
              "      <td>1.222747</td>\n",
              "      <td>1.956747</td>\n",
              "      <td>0.942678</td>\n",
              "      <td>-0.505030</td>\n",
              "      <td>-0.326132</td>\n",
              "      <td>0.577755</td>\n",
              "      <td>0.602425</td>\n",
              "      <td>0.763384</td>\n",
              "      <td>-0.191792</td>\n",
              "      <td>0.615306</td>\n",
              "      <td>-0.515276</td>\n",
              "      <td>2.092001</td>\n",
              "      <td>-0.00721</td>\n",
              "      <td>-0.220508</td>\n",
              "      <td>-1.056873</td>\n",
              "      <td>-0.067012</td>\n",
              "      <td>-0.328625</td>\n",
              "      <td>-0.438466</td>\n",
              "      <td>-0.200858</td>\n",
              "      <td>0.703031</td>\n",
              "      <td>-0.368962</td>\n",
              "      <td>0.222187</td>\n",
              "      <td>-0.081844</td>\n",
              "      <td>-0.289122</td>\n",
              "    </tr>\n",
              "  </tbody>\n",
              "</table>\n",
              "<p>19237 rows × 26 columns</p>\n",
              "</div>"
            ],
            "text/plain": [
              "          Price      Levy  ...  Doors_>5  Wheel_Right-hand drive\n",
              "0     -0.027432  1.549007  ... -0.081844               -0.289122\n",
              "1     -0.010153  0.641319  ... -0.081844               -0.289122\n",
              "2     -0.052939 -0.115341  ... -0.081844                3.458748\n",
              "3     -0.078441  0.166401  ... -0.081844               -0.289122\n",
              "4     -0.035838 -1.714930  ... -0.081844               -0.289122\n",
              "...         ...       ...  ...       ...                     ...\n",
              "19232 -0.052939 -0.115341  ... -0.081844               -0.289122\n",
              "19233 -0.015085  0.061832  ... -0.081844               -0.289122\n",
              "19234  0.039628  0.078959  ... -0.081844               -0.289122\n",
              "19235 -0.069394  1.312984  ... -0.081844               -0.289122\n",
              "19236 -0.094901 -0.219580  ... -0.081844               -0.289122\n",
              "\n",
              "[19237 rows x 26 columns]"
            ]
          },
          "metadata": {
            "tags": []
          },
          "execution_count": 444
        }
      ]
    },
    {
      "cell_type": "markdown",
      "metadata": {
        "id": "f0cPCLDXb-G0"
      },
      "source": [
        "Devide features and target variable"
      ]
    },
    {
      "cell_type": "code",
      "metadata": {
        "id": "Q7-1fv95bta3"
      },
      "source": [
        "features=train_data3.iloc[:,1:]\n",
        "target=train_data3['Price']"
      ],
      "execution_count": null,
      "outputs": []
    },
    {
      "cell_type": "markdown",
      "metadata": {
        "id": "GObns0wectlN"
      },
      "source": [
        "Split test and train data"
      ]
    },
    {
      "cell_type": "code",
      "metadata": {
        "id": "aIWA4gtlcq2T"
      },
      "source": [
        "from sklearn.model_selection import train_test_split\n",
        "x_train,x_test,y_train,y_test=train_test_split(features,target,test_size=0.3,random_state=0)"
      ],
      "execution_count": null,
      "outputs": []
    },
    {
      "cell_type": "code",
      "metadata": {
        "colab": {
          "base_uri": "https://localhost:8080/"
        },
        "id": "xyK-Isj-dqOg",
        "outputId": "f17c8b0d-fa26-4801-ebd1-8c3385948828"
      },
      "source": [
        "x_train.shape"
      ],
      "execution_count": null,
      "outputs": [
        {
          "output_type": "execute_result",
          "data": {
            "text/plain": [
              "(13465, 25)"
            ]
          },
          "metadata": {
            "tags": []
          },
          "execution_count": 447
        }
      ]
    },
    {
      "cell_type": "code",
      "metadata": {
        "colab": {
          "base_uri": "https://localhost:8080/"
        },
        "id": "isLn496tdsEN",
        "outputId": "181fe946-4fc0-42c4-a314-a80a547ad139"
      },
      "source": [
        "y_train.shape"
      ],
      "execution_count": null,
      "outputs": [
        {
          "output_type": "execute_result",
          "data": {
            "text/plain": [
              "(13465,)"
            ]
          },
          "metadata": {
            "tags": []
          },
          "execution_count": 448
        }
      ]
    },
    {
      "cell_type": "markdown",
      "metadata": {
        "id": "AVjlKt1gd7Cp"
      },
      "source": [
        "Model selection"
      ]
    },
    {
      "cell_type": "code",
      "metadata": {
        "colab": {
          "base_uri": "https://localhost:8080/"
        },
        "id": "Gti-aHw6d1Xh",
        "outputId": "b563cb58-9921-4325-f2fb-97734f8685a7"
      },
      "source": [
        "#linear regression\n",
        "from sklearn.linear_model import LinearRegression\n",
        "lr=LinearRegression()\n",
        "lr.fit(x_train,y_train)\n"
      ],
      "execution_count": null,
      "outputs": [
        {
          "output_type": "execute_result",
          "data": {
            "text/plain": [
              "LinearRegression(copy_X=True, fit_intercept=True, n_jobs=None, normalize=False)"
            ]
          },
          "metadata": {
            "tags": []
          },
          "execution_count": 449
        }
      ]
    },
    {
      "cell_type": "code",
      "metadata": {
        "colab": {
          "base_uri": "https://localhost:8080/"
        },
        "id": "cQ_V-L76dvHE",
        "outputId": "0e5363d2-535a-41f6-819b-4cb302137112"
      },
      "source": [
        "predicted=lr.predict(x_test)\n",
        "predicted"
      ],
      "execution_count": null,
      "outputs": [
        {
          "output_type": "execute_result",
          "data": {
            "text/plain": [
              "array([-0.03689501,  0.03536717, -0.083027  , ...,  0.06159387,\n",
              "       -0.03287395,  0.06148048])"
            ]
          },
          "metadata": {
            "tags": []
          },
          "execution_count": 450
        }
      ]
    },
    {
      "cell_type": "code",
      "metadata": {
        "colab": {
          "base_uri": "https://localhost:8080/"
        },
        "id": "0HX5gpNhiXY4",
        "outputId": "583fc6d8-8125-49ed-ab64-9155c0f0685f"
      },
      "source": [
        "lr.score(x_test,y_test)"
      ],
      "execution_count": null,
      "outputs": [
        {
          "output_type": "execute_result",
          "data": {
            "text/plain": [
              "-0.11486140879614148"
            ]
          },
          "metadata": {
            "tags": []
          },
          "execution_count": 451
        }
      ]
    },
    {
      "cell_type": "code",
      "metadata": {
        "colab": {
          "base_uri": "https://localhost:8080/",
          "height": 282
        },
        "id": "q2WpUEoIjeFA",
        "outputId": "97cab161-4037-4a5e-8a67-9945e5ee423a"
      },
      "source": [
        "plt.scatter(y_test,predicted) # visualisation of diffrence between true value and predicted value"
      ],
      "execution_count": null,
      "outputs": [
        {
          "output_type": "execute_result",
          "data": {
            "text/plain": [
              "<matplotlib.collections.PathCollection at 0x7f77ec6029d0>"
            ]
          },
          "metadata": {
            "tags": []
          },
          "execution_count": 452
        },
        {
          "output_type": "display_data",
          "data": {
            "image/png": "[encoded data removed]",
            "text/plain": [
              "<Figure size 432x288 with 1 Axes>"
            ]
          },
          "metadata": {
            "tags": [],
            "needs_background": "light"
          }
        }
      ]
    },
    {
      "cell_type": "code",
      "metadata": {
        "colab": {
          "base_uri": "https://localhost:8080/"
        },
        "id": "cJJiduaTehrY",
        "outputId": "df9e1afd-dc85-4743-afb2-390d9e3076f6"
      },
      "source": [
        "#check for error\n",
        "from sklearn.metrics import mean_squared_error\n",
        "error=mean_squared_error(y_test,predicted)\n",
        "error"
      ],
      "execution_count": null,
      "outputs": [
        {
          "output_type": "execute_result",
          "data": {
            "text/plain": [
              "0.011327152532759817"
            ]
          },
          "metadata": {
            "tags": []
          },
          "execution_count": 455
        }
      ]
    },
    {
      "cell_type": "code",
      "metadata": {
        "id": "JukH7Mnee6mb"
      },
      "source": [
        ""
      ],
      "execution_count": null,
      "outputs": []
    }
  ]
}